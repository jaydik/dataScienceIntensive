{
 "cells": [
  {
   "cell_type": "markdown",
   "metadata": {},
   "source": [
    "# Data Story\n",
    "\n",
    "### Jon Dickerson\n"
   ]
  },
  {
   "cell_type": "code",
   "execution_count": 1,
   "metadata": {
    "collapsed": true
   },
   "outputs": [],
   "source": [
    "import pandas as pd\n",
    "import numpy as np\n",
    "import matplotlib.pyplot as plt"
   ]
  },
  {
   "cell_type": "code",
   "execution_count": 2,
   "metadata": {
    "collapsed": false
   },
   "outputs": [
    {
     "data": {
      "text/html": [
       "<div>\n",
       "<table border=\"1\" class=\"dataframe\">\n",
       "  <thead>\n",
       "    <tr style=\"text-align: right;\">\n",
       "      <th></th>\n",
       "      <th>title</th>\n",
       "      <th>year</th>\n",
       "      <th>episode_name</th>\n",
       "      <th>season</th>\n",
       "      <th>episode_num</th>\n",
       "      <th>country</th>\n",
       "      <th>date</th>\n",
       "      <th>rating</th>\n",
       "      <th>votes</th>\n",
       "      <th>rank</th>\n",
       "      <th>name</th>\n",
       "      <th>type</th>\n",
       "    </tr>\n",
       "  </thead>\n",
       "  <tbody>\n",
       "    <tr>\n",
       "      <th>0</th>\n",
       "      <td>$#*! My Dad Says</td>\n",
       "      <td>2010</td>\n",
       "      <td>Code Ed</td>\n",
       "      <td>1</td>\n",
       "      <td>4</td>\n",
       "      <td>USA</td>\n",
       "      <td>2010-10-14</td>\n",
       "      <td>6.8</td>\n",
       "      <td>72</td>\n",
       "      <td>6.899713</td>\n",
       "      <td>Alison (V) Brown</td>\n",
       "      <td>writer</td>\n",
       "    </tr>\n",
       "    <tr>\n",
       "      <th>1</th>\n",
       "      <td>$#*! My Dad Says</td>\n",
       "      <td>2010</td>\n",
       "      <td>Code Ed</td>\n",
       "      <td>1</td>\n",
       "      <td>4</td>\n",
       "      <td>USA</td>\n",
       "      <td>2010-10-14</td>\n",
       "      <td>6.8</td>\n",
       "      <td>72</td>\n",
       "      <td>6.899713</td>\n",
       "      <td>Justin (II) Halpern</td>\n",
       "      <td>creator</td>\n",
       "    </tr>\n",
       "    <tr>\n",
       "      <th>2</th>\n",
       "      <td>$#*! My Dad Says</td>\n",
       "      <td>2010</td>\n",
       "      <td>Code Ed</td>\n",
       "      <td>1</td>\n",
       "      <td>4</td>\n",
       "      <td>USA</td>\n",
       "      <td>2010-10-14</td>\n",
       "      <td>6.8</td>\n",
       "      <td>72</td>\n",
       "      <td>6.899713</td>\n",
       "      <td>David A. Katz</td>\n",
       "      <td>writer</td>\n",
       "    </tr>\n",
       "    <tr>\n",
       "      <th>3</th>\n",
       "      <td>$#*! My Dad Says</td>\n",
       "      <td>2010</td>\n",
       "      <td>Code Ed</td>\n",
       "      <td>1</td>\n",
       "      <td>4</td>\n",
       "      <td>USA</td>\n",
       "      <td>2010-10-14</td>\n",
       "      <td>6.8</td>\n",
       "      <td>72</td>\n",
       "      <td>6.899713</td>\n",
       "      <td>David Kohan</td>\n",
       "      <td>creator</td>\n",
       "    </tr>\n",
       "    <tr>\n",
       "      <th>4</th>\n",
       "      <td>$#*! My Dad Says</td>\n",
       "      <td>2010</td>\n",
       "      <td>Code Ed</td>\n",
       "      <td>1</td>\n",
       "      <td>4</td>\n",
       "      <td>USA</td>\n",
       "      <td>2010-10-14</td>\n",
       "      <td>6.8</td>\n",
       "      <td>72</td>\n",
       "      <td>6.899713</td>\n",
       "      <td>Michael Lisbe</td>\n",
       "      <td>written by</td>\n",
       "    </tr>\n",
       "  </tbody>\n",
       "</table>\n",
       "</div>"
      ],
      "text/plain": [
       "              title  year episode_name  season  episode_num country  \\\n",
       "0  $#*! My Dad Says  2010     Code Ed        1            4     USA   \n",
       "1  $#*! My Dad Says  2010     Code Ed        1            4     USA   \n",
       "2  $#*! My Dad Says  2010     Code Ed        1            4     USA   \n",
       "3  $#*! My Dad Says  2010     Code Ed        1            4     USA   \n",
       "4  $#*! My Dad Says  2010     Code Ed        1            4     USA   \n",
       "\n",
       "         date  rating  votes      rank                 name        type  \n",
       "0  2010-10-14     6.8     72  6.899713     Alison (V) Brown      writer  \n",
       "1  2010-10-14     6.8     72  6.899713  Justin (II) Halpern     creator  \n",
       "2  2010-10-14     6.8     72  6.899713        David A. Katz      writer  \n",
       "3  2010-10-14     6.8     72  6.899713          David Kohan     creator  \n",
       "4  2010-10-14     6.8     72  6.899713        Michael Lisbe  written by  "
      ]
     },
     "execution_count": 2,
     "metadata": {},
     "output_type": "execute_result"
    }
   ],
   "source": [
    "main_data = pd.read_csv('../project/data/mainData.csv')\n",
    "main_data.head()"
   ]
  },
  {
   "cell_type": "markdown",
   "metadata": {},
   "source": [
    "So we have a data frame, containing a line for each episode of each show for each writer on it. We also have the rating, votes, and rank for that show. Do shows take a while to find their groove? That is, do the ratings improve over the course of a season?"
   ]
  },
  {
   "cell_type": "code",
   "execution_count": 20,
   "metadata": {
    "collapsed": false
   },
   "outputs": [
    {
     "name": "stdout",
     "output_type": "stream",
     "text": [
      "Populating the interactive namespace from numpy and matplotlib\n"
     ]
    },
    {
     "data": {
      "text/plain": [
       "<matplotlib.axes._subplots.AxesSubplot at 0x7fd267d5b7b8>"
      ]
     },
     "execution_count": 20,
     "metadata": {},
     "output_type": "execute_result"
    },
    {
     "data": {
      "image/png": "[encoded data removed]",
      "text/plain": [
       "<matplotlib.figure.Figure at 0x7fd267dc5c50>"
      ]
     },
     "metadata": {},
     "output_type": "display_data"
    }
   ],
   "source": [
    "%pylab inline\n",
    "\n",
    "main_data[main_data.episode_num < 30].groupby('episode_num')['rating'].mean().plot()\n"
   ]
  },
  {
   "cell_type": "markdown",
   "metadata": {},
   "source": [
    "There are a couple of interesting peaks there, when do seasons typically end?"
   ]
  },
  {
   "cell_type": "code",
   "execution_count": 14,
   "metadata": {
    "collapsed": false
   },
   "outputs": [
    {
     "data": {
      "text/plain": [
       "13    807\n",
       "22    615\n",
       "10    545\n",
       "1     365\n",
       "12    339\n",
       "Name: episode_num, dtype: int64"
      ]
     },
     "execution_count": 14,
     "metadata": {},
     "output_type": "execute_result"
    }
   ],
   "source": [
    "main_data.groupby(['title', 'season'])['episode_num'].max().value_counts().head()"
   ]
  },
  {
   "cell_type": "markdown",
   "metadata": {},
   "source": [
    "So we can see most shows have 13 or 22 episodes, corresponding to two of the humps in the graph. The other popular humps occur at episodes 1, 10 and 12, which are also the most common season finales. This suggests that season finales are typically rated higher than any other episdoe, with episode 5 being a particular low point. What about as the show matures further, are later season ranked higher?"
   ]
  },
  {
   "cell_type": "code",
   "execution_count": 21,
   "metadata": {
    "collapsed": false
   },
   "outputs": [
    {
     "data": {
      "text/plain": [
       "<matplotlib.axes._subplots.AxesSubplot at 0x7fd2680f7828>"
      ]
     },
     "execution_count": 21,
     "metadata": {},
     "output_type": "execute_result"
    },
    {
     "data": {
      "image/png": "[encoded data removed]",
      "text/plain": [
       "<matplotlib.figure.Figure at 0x7fd267d4df28>"
      ]
     },
     "metadata": {},
     "output_type": "display_data"
    }
   ],
   "source": [
    "main_data.groupby(['season'])['rating'].mean().plot()"
   ]
  },
  {
   "cell_type": "markdown",
   "metadata": {},
   "source": [
    "Season 5 seems to be a high point for a show, with a precipitous decline following before leading to a comparative few shows making it to 30+ seasons. However, most shows do not have the longevity to make it 30 seasons. How long does the average show last?"
   ]
  },
  {
   "cell_type": "code",
   "execution_count": 19,
   "metadata": {
    "collapsed": false
   },
   "outputs": [
    {
     "data": {
      "text/plain": [
       "2.3884892086330933"
      ]
     },
     "execution_count": 19,
     "metadata": {},
     "output_type": "execute_result"
    }
   ],
   "source": [
    "main_data.groupby('title')['season'].max().mean()"
   ]
  },
  {
   "cell_type": "markdown",
   "metadata": {},
   "source": [
    "Wow, way shorter than I would have imagined. Our two graphs show us that there are definitely maturity periods for shows, but that they also run their course, and if a show is good enough to make it past the average of 2+ seasons, then it will hit its peak around season 5, and should end. By the time you hit season 10, your rank is significantly lower. This probably corresponds to the time a show \"needs to end\". However, if your show can push past that point, you seem to increase toward later seasons."
   ]
  },
  {
   "cell_type": "code",
   "execution_count": null,
   "metadata": {
    "collapsed": true
   },
   "outputs": [],
   "source": []
  }
 ],
 "metadata": {
  "kernelspec": {
   "display_name": "Python 3",
   "language": "python",
   "name": "python3"
  },
  "language_info": {
   "codemirror_mode": {
    "name": "ipython",
    "version": 3
   },
   "file_extension": ".py",
   "mimetype": "text/x-python",
   "name": "python",
   "nbconvert_exporter": "python",
   "pygments_lexer": "ipython3",
   "version": "3.5.1"
  }
 },
 "nbformat": 4,
 "nbformat_minor": 0
}
