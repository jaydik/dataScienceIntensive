{
 "cells": [
  {
   "cell_type": "code",
   "execution_count": 1,
   "metadata": {
    "collapsed": true
   },
   "outputs": [],
   "source": [
    "import pandas as pd\n",
    "import networkx as nx"
   ]
  },
  {
   "cell_type": "code",
   "execution_count": 4,
   "metadata": {
    "collapsed": false
   },
   "outputs": [
    {
     "data": {
      "text/html": [
       "<div>\n",
       "<table border=\"1\" class=\"dataframe\">\n",
       "  <thead>\n",
       "    <tr style=\"text-align: right;\">\n",
       "      <th></th>\n",
       "      <th>title</th>\n",
       "      <th>year</th>\n",
       "      <th>episode_name</th>\n",
       "      <th>season</th>\n",
       "      <th>episode_num</th>\n",
       "      <th>country</th>\n",
       "      <th>date</th>\n",
       "      <th>rating</th>\n",
       "      <th>votes</th>\n",
       "      <th>rank</th>\n",
       "      <th>name</th>\n",
       "      <th>type</th>\n",
       "    </tr>\n",
       "  </thead>\n",
       "  <tbody>\n",
       "    <tr>\n",
       "      <th>0</th>\n",
       "      <td>$#*! My Dad Says</td>\n",
       "      <td>2010</td>\n",
       "      <td>Code Ed</td>\n",
       "      <td>1</td>\n",
       "      <td>4</td>\n",
       "      <td>USA</td>\n",
       "      <td>2010-10-14</td>\n",
       "      <td>6.8</td>\n",
       "      <td>72</td>\n",
       "      <td>6.899713</td>\n",
       "      <td>Alison (V) Brown</td>\n",
       "      <td>writer</td>\n",
       "    </tr>\n",
       "    <tr>\n",
       "      <th>2</th>\n",
       "      <td>$#*! My Dad Says</td>\n",
       "      <td>2010</td>\n",
       "      <td>Code Ed</td>\n",
       "      <td>1</td>\n",
       "      <td>4</td>\n",
       "      <td>USA</td>\n",
       "      <td>2010-10-14</td>\n",
       "      <td>6.8</td>\n",
       "      <td>72</td>\n",
       "      <td>6.899713</td>\n",
       "      <td>David A. Katz</td>\n",
       "      <td>writer</td>\n",
       "    </tr>\n",
       "    <tr>\n",
       "      <th>4</th>\n",
       "      <td>$#*! My Dad Says</td>\n",
       "      <td>2010</td>\n",
       "      <td>Code Ed</td>\n",
       "      <td>1</td>\n",
       "      <td>4</td>\n",
       "      <td>USA</td>\n",
       "      <td>2010-10-14</td>\n",
       "      <td>6.8</td>\n",
       "      <td>72</td>\n",
       "      <td>6.899713</td>\n",
       "      <td>Michael Lisbe</td>\n",
       "      <td>written by</td>\n",
       "    </tr>\n",
       "    <tr>\n",
       "      <th>6</th>\n",
       "      <td>$#*! My Dad Says</td>\n",
       "      <td>2010</td>\n",
       "      <td>Code Ed</td>\n",
       "      <td>1</td>\n",
       "      <td>4</td>\n",
       "      <td>USA</td>\n",
       "      <td>2010-10-14</td>\n",
       "      <td>6.8</td>\n",
       "      <td>72</td>\n",
       "      <td>6.899713</td>\n",
       "      <td>Jesse Porter</td>\n",
       "      <td>writer</td>\n",
       "    </tr>\n",
       "    <tr>\n",
       "      <th>7</th>\n",
       "      <td>$#*! My Dad Says</td>\n",
       "      <td>2010</td>\n",
       "      <td>Code Ed</td>\n",
       "      <td>1</td>\n",
       "      <td>4</td>\n",
       "      <td>USA</td>\n",
       "      <td>2010-10-14</td>\n",
       "      <td>6.8</td>\n",
       "      <td>72</td>\n",
       "      <td>6.899713</td>\n",
       "      <td>Nate Reger</td>\n",
       "      <td>written by</td>\n",
       "    </tr>\n",
       "  </tbody>\n",
       "</table>\n",
       "</div>"
      ],
      "text/plain": [
       "              title  year episode_name  season  episode_num country  \\\n",
       "0  $#*! My Dad Says  2010     Code Ed        1            4     USA   \n",
       "2  $#*! My Dad Says  2010     Code Ed        1            4     USA   \n",
       "4  $#*! My Dad Says  2010     Code Ed        1            4     USA   \n",
       "6  $#*! My Dad Says  2010     Code Ed        1            4     USA   \n",
       "7  $#*! My Dad Says  2010     Code Ed        1            4     USA   \n",
       "\n",
       "         date  rating  votes      rank              name        type  \n",
       "0  2010-10-14     6.8     72  6.899713  Alison (V) Brown      writer  \n",
       "2  2010-10-14     6.8     72  6.899713     David A. Katz      writer  \n",
       "4  2010-10-14     6.8     72  6.899713     Michael Lisbe  written by  \n",
       "6  2010-10-14     6.8     72  6.899713      Jesse Porter      writer  \n",
       "7  2010-10-14     6.8     72  6.899713        Nate Reger  written by  "
      ]
     },
     "execution_count": 4,
     "metadata": {},
     "output_type": "execute_result"
    }
   ],
   "source": [
    "mainData = pd.read_csv('../data/mainData.csv')\n",
    "writers = mainData[mainData['type'].str.contains('writ').fillna(False)]\n",
    "writers.head()"
   ]
  },
  {
   "cell_type": "code",
   "execution_count": 45,
   "metadata": {
    "collapsed": false
   },
   "outputs": [],
   "source": [
    "grouped = writers[writers.title.isin([\"Boardwalk Empire\", \"Mad Men\", \"The Sopranos\"])].groupby(['title', \n",
    "                                                          'year', \n",
    "                                                          'season', \n",
    "                                                          'episode_num'])\n",
    "\n",
    "\n",
    "\n",
    "from itertools import combinations\n",
    "\n",
    "output = []\n",
    "\n",
    "for show, data in grouped:\n",
    "        output.extend([x for x in combinations(data['name'], 2) if x[0] != x[1]])\n",
    "    \n",
    "\n"
   ]
  },
  {
   "cell_type": "code",
   "execution_count": 47,
   "metadata": {
    "collapsed": false
   },
   "outputs": [],
   "source": [
    "G = nx.Graph()\n",
    "G.add_edges_from(output, )\n",
    "\n",
    "import matplotlib.pyplot as plt\n",
    "\n",
    "pos=nx.spring_layout(G)\n",
    "\n",
    "plt.figure(figsize=(6,6))\n",
    "nx.draw_networkx(G, pos=pos, alpha=0.5, with_labels=False)\n",
    "nx.draw_networkx_labels(G, pos=pos, labels={'David (II) Chase': 'David (II) Chase', \n",
    "                                            'Terence Winter': 'Terence Winter', \n",
    "                                            'Matthew Weiner':'Matthew Weiner'}, font_weight='bold')\n",
    "plt.axis('off')\n",
    "plt.show()"
   ]
  },
  {
   "cell_type": "code",
   "execution_count": 18,
   "metadata": {
    "collapsed": false
   },
   "outputs": [
    {
     "data": {
      "text/plain": [
       "[]"
      ]
     },
     "execution_count": 18,
     "metadata": {},
     "output_type": "execute_result"
    }
   ],
   "source": []
  },
  {
   "cell_type": "code",
   "execution_count": null,
   "metadata": {
    "collapsed": true
   },
   "outputs": [],
   "source": []
  }
 ],
 "metadata": {
  "kernelspec": {
   "display_name": "Python 3",
   "language": "python",
   "name": "python3"
  },
  "language_info": {
   "codemirror_mode": {
    "name": "ipython",
    "version": 3
   },
   "file_extension": ".py",
   "mimetype": "text/x-python",
   "name": "python",
   "nbconvert_exporter": "python",
   "pygments_lexer": "ipython3",
   "version": "3.5.1"
  }
 },
 "nbformat": 4,
 "nbformat_minor": 0
}
