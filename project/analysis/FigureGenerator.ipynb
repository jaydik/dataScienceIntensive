{
 "cells": [
  {
   "cell_type": "code",
   "execution_count": 1,
   "metadata": {
    "collapsed": true
   },
   "outputs": [],
   "source": [
    "import pandas as pd\n",
    "import networkx as nx"
   ]
  },
  {
   "cell_type": "code",
   "execution_count": 152,
   "metadata": {
    "collapsed": false
   },
   "outputs": [
    {
     "data": {
      "text/html": [
       "<div>\n",
       "<table border=\"1\" class=\"dataframe\">\n",
       "  <thead>\n",
       "    <tr style=\"text-align: right;\">\n",
       "      <th></th>\n",
       "      <th>title</th>\n",
       "      <th>year</th>\n",
       "      <th>episode_name</th>\n",
       "      <th>season</th>\n",
       "      <th>episode_num</th>\n",
       "      <th>country</th>\n",
       "      <th>date</th>\n",
       "      <th>rating</th>\n",
       "      <th>votes</th>\n",
       "      <th>rank</th>\n",
       "      <th>name</th>\n",
       "      <th>type</th>\n",
       "    </tr>\n",
       "  </thead>\n",
       "  <tbody>\n",
       "    <tr>\n",
       "      <th>0</th>\n",
       "      <td>$#*! My Dad Says</td>\n",
       "      <td>2010</td>\n",
       "      <td>Code Ed</td>\n",
       "      <td>1</td>\n",
       "      <td>4</td>\n",
       "      <td>USA</td>\n",
       "      <td>2010-10-14</td>\n",
       "      <td>6.8</td>\n",
       "      <td>72</td>\n",
       "      <td>6.899713</td>\n",
       "      <td>Alison (V) Brown</td>\n",
       "      <td>writer</td>\n",
       "    </tr>\n",
       "    <tr>\n",
       "      <th>1</th>\n",
       "      <td>$#*! My Dad Says</td>\n",
       "      <td>2010</td>\n",
       "      <td>Code Ed</td>\n",
       "      <td>1</td>\n",
       "      <td>4</td>\n",
       "      <td>USA</td>\n",
       "      <td>2010-10-14</td>\n",
       "      <td>6.8</td>\n",
       "      <td>72</td>\n",
       "      <td>6.899713</td>\n",
       "      <td>Justin (II) Halpern</td>\n",
       "      <td>creator</td>\n",
       "    </tr>\n",
       "    <tr>\n",
       "      <th>2</th>\n",
       "      <td>$#*! My Dad Says</td>\n",
       "      <td>2010</td>\n",
       "      <td>Code Ed</td>\n",
       "      <td>1</td>\n",
       "      <td>4</td>\n",
       "      <td>USA</td>\n",
       "      <td>2010-10-14</td>\n",
       "      <td>6.8</td>\n",
       "      <td>72</td>\n",
       "      <td>6.899713</td>\n",
       "      <td>David A. Katz</td>\n",
       "      <td>writer</td>\n",
       "    </tr>\n",
       "    <tr>\n",
       "      <th>3</th>\n",
       "      <td>$#*! My Dad Says</td>\n",
       "      <td>2010</td>\n",
       "      <td>Code Ed</td>\n",
       "      <td>1</td>\n",
       "      <td>4</td>\n",
       "      <td>USA</td>\n",
       "      <td>2010-10-14</td>\n",
       "      <td>6.8</td>\n",
       "      <td>72</td>\n",
       "      <td>6.899713</td>\n",
       "      <td>David Kohan</td>\n",
       "      <td>creator</td>\n",
       "    </tr>\n",
       "    <tr>\n",
       "      <th>4</th>\n",
       "      <td>$#*! My Dad Says</td>\n",
       "      <td>2010</td>\n",
       "      <td>Code Ed</td>\n",
       "      <td>1</td>\n",
       "      <td>4</td>\n",
       "      <td>USA</td>\n",
       "      <td>2010-10-14</td>\n",
       "      <td>6.8</td>\n",
       "      <td>72</td>\n",
       "      <td>6.899713</td>\n",
       "      <td>Michael Lisbe</td>\n",
       "      <td>written by</td>\n",
       "    </tr>\n",
       "  </tbody>\n",
       "</table>\n",
       "</div>"
      ],
      "text/plain": [
       "              title  year episode_name  season  episode_num country  \\\n",
       "0  $#*! My Dad Says  2010     Code Ed        1            4     USA   \n",
       "1  $#*! My Dad Says  2010     Code Ed        1            4     USA   \n",
       "2  $#*! My Dad Says  2010     Code Ed        1            4     USA   \n",
       "3  $#*! My Dad Says  2010     Code Ed        1            4     USA   \n",
       "4  $#*! My Dad Says  2010     Code Ed        1            4     USA   \n",
       "\n",
       "         date  rating  votes      rank                 name        type  \n",
       "0  2010-10-14     6.8     72  6.899713     Alison (V) Brown      writer  \n",
       "1  2010-10-14     6.8     72  6.899713  Justin (II) Halpern     creator  \n",
       "2  2010-10-14     6.8     72  6.899713        David A. Katz      writer  \n",
       "3  2010-10-14     6.8     72  6.899713          David Kohan     creator  \n",
       "4  2010-10-14     6.8     72  6.899713        Michael Lisbe  written by  "
      ]
     },
     "execution_count": 152,
     "metadata": {},
     "output_type": "execute_result"
    }
   ],
   "source": [
    "mainData = pd.read_csv('../data/mainData.csv')\n",
    "mainData.head()"
   ]
  },
  {
   "cell_type": "code",
   "execution_count": 153,
   "metadata": {
    "collapsed": false
   },
   "outputs": [
    {
     "data": {
      "text/html": [
       "<div>\n",
       "<table border=\"1\" class=\"dataframe\">\n",
       "  <thead>\n",
       "    <tr style=\"text-align: right;\">\n",
       "      <th></th>\n",
       "      <th>title</th>\n",
       "      <th>year</th>\n",
       "      <th>episode_name</th>\n",
       "      <th>season</th>\n",
       "      <th>episode_num</th>\n",
       "      <th>country</th>\n",
       "      <th>date</th>\n",
       "      <th>rating</th>\n",
       "      <th>votes</th>\n",
       "      <th>rank</th>\n",
       "      <th>name</th>\n",
       "      <th>type</th>\n",
       "    </tr>\n",
       "  </thead>\n",
       "  <tbody>\n",
       "    <tr>\n",
       "      <th>0</th>\n",
       "      <td>$#*! My Dad Says</td>\n",
       "      <td>2010</td>\n",
       "      <td>Code Ed</td>\n",
       "      <td>1</td>\n",
       "      <td>4</td>\n",
       "      <td>USA</td>\n",
       "      <td>2010-10-14</td>\n",
       "      <td>6.8</td>\n",
       "      <td>72</td>\n",
       "      <td>6.899713</td>\n",
       "      <td>Alison (V) Brown</td>\n",
       "      <td>writer</td>\n",
       "    </tr>\n",
       "    <tr>\n",
       "      <th>2</th>\n",
       "      <td>$#*! My Dad Says</td>\n",
       "      <td>2010</td>\n",
       "      <td>Code Ed</td>\n",
       "      <td>1</td>\n",
       "      <td>4</td>\n",
       "      <td>USA</td>\n",
       "      <td>2010-10-14</td>\n",
       "      <td>6.8</td>\n",
       "      <td>72</td>\n",
       "      <td>6.899713</td>\n",
       "      <td>David A. Katz</td>\n",
       "      <td>writer</td>\n",
       "    </tr>\n",
       "    <tr>\n",
       "      <th>4</th>\n",
       "      <td>$#*! My Dad Says</td>\n",
       "      <td>2010</td>\n",
       "      <td>Code Ed</td>\n",
       "      <td>1</td>\n",
       "      <td>4</td>\n",
       "      <td>USA</td>\n",
       "      <td>2010-10-14</td>\n",
       "      <td>6.8</td>\n",
       "      <td>72</td>\n",
       "      <td>6.899713</td>\n",
       "      <td>Michael Lisbe</td>\n",
       "      <td>written by</td>\n",
       "    </tr>\n",
       "    <tr>\n",
       "      <th>6</th>\n",
       "      <td>$#*! My Dad Says</td>\n",
       "      <td>2010</td>\n",
       "      <td>Code Ed</td>\n",
       "      <td>1</td>\n",
       "      <td>4</td>\n",
       "      <td>USA</td>\n",
       "      <td>2010-10-14</td>\n",
       "      <td>6.8</td>\n",
       "      <td>72</td>\n",
       "      <td>6.899713</td>\n",
       "      <td>Jesse Porter</td>\n",
       "      <td>writer</td>\n",
       "    </tr>\n",
       "    <tr>\n",
       "      <th>7</th>\n",
       "      <td>$#*! My Dad Says</td>\n",
       "      <td>2010</td>\n",
       "      <td>Code Ed</td>\n",
       "      <td>1</td>\n",
       "      <td>4</td>\n",
       "      <td>USA</td>\n",
       "      <td>2010-10-14</td>\n",
       "      <td>6.8</td>\n",
       "      <td>72</td>\n",
       "      <td>6.899713</td>\n",
       "      <td>Nate Reger</td>\n",
       "      <td>written by</td>\n",
       "    </tr>\n",
       "  </tbody>\n",
       "</table>\n",
       "</div>"
      ],
      "text/plain": [
       "              title  year episode_name  season  episode_num country  \\\n",
       "0  $#*! My Dad Says  2010     Code Ed        1            4     USA   \n",
       "2  $#*! My Dad Says  2010     Code Ed        1            4     USA   \n",
       "4  $#*! My Dad Says  2010     Code Ed        1            4     USA   \n",
       "6  $#*! My Dad Says  2010     Code Ed        1            4     USA   \n",
       "7  $#*! My Dad Says  2010     Code Ed        1            4     USA   \n",
       "\n",
       "         date  rating  votes      rank              name        type  \n",
       "0  2010-10-14     6.8     72  6.899713  Alison (V) Brown      writer  \n",
       "2  2010-10-14     6.8     72  6.899713     David A. Katz      writer  \n",
       "4  2010-10-14     6.8     72  6.899713     Michael Lisbe  written by  \n",
       "6  2010-10-14     6.8     72  6.899713      Jesse Porter      writer  \n",
       "7  2010-10-14     6.8     72  6.899713        Nate Reger  written by  "
      ]
     },
     "execution_count": 153,
     "metadata": {},
     "output_type": "execute_result"
    }
   ],
   "source": [
    "writers = mainData[mainData['type'].str.contains('writ').fillna(False)]\n",
    "writers.head()"
   ]
  },
  {
   "cell_type": "code",
   "execution_count": 154,
   "metadata": {
    "collapsed": false
   },
   "outputs": [
    {
     "data": {
      "text/plain": [
       "142640"
      ]
     },
     "execution_count": 154,
     "metadata": {},
     "output_type": "execute_result"
    }
   ],
   "source": [
    "len(writers.index)"
   ]
  },
  {
   "cell_type": "code",
   "execution_count": 155,
   "metadata": {
    "collapsed": false
   },
   "outputs": [],
   "source": [
    "show_ratings = writers.groupby('title')['rank'].mean()\n",
    "top_100 = list(show_ratings.sort_values(ascending=False).head(30).index)"
   ]
  },
  {
   "cell_type": "code",
   "execution_count": 156,
   "metadata": {
    "collapsed": false
   },
   "outputs": [],
   "source": [
    "grouped = writers[writers.title.isin(top_100)].groupby(['name'])"
   ]
  },
  {
   "cell_type": "code",
   "execution_count": 157,
   "metadata": {
    "collapsed": false
   },
   "outputs": [],
   "source": [
    "from itertools import combinations\n",
    "from collections import Counter\n",
    "\n",
    "output = []\n",
    "\n",
    "for name, data in grouped:\n",
    "    output.extend(set([x for x in combinations(data['title'],2) if x[0] != x[1]]))\n",
    "\n",
    "output.sort()\n",
    "c = Counter(output)\n",
    "\n",
    "graph_builder = []\n",
    "for x in c:\n",
    "    graph_builder.append((x[0], x[1], {'weight': c[x]}))\n"
   ]
  },
  {
   "cell_type": "code",
   "execution_count": 158,
   "metadata": {
    "collapsed": false
   },
   "outputs": [],
   "source": [
    "G = nx.Graph()\n",
    "G.add_edges_from(graph_builder)\n",
    "for x in top_100:\n",
    "    if x not in G.nodes():\n",
    "        G.add_node(x)\n"
   ]
  },
  {
   "cell_type": "code",
   "execution_count": 159,
   "metadata": {
    "collapsed": false
   },
   "outputs": [],
   "source": [
    "import matplotlib.pyplot as plt\n",
    "from math import exp\n",
    "\n",
    "shows = writers[writers.title.isin(top_100)].groupby('title')\n",
    "\n",
    "nx.draw_networkx(G, \n",
    "                 pos=nx.spring_layout(G), \n",
    "                 alpha=1,\n",
    "                 nodelist = [show[0] for show in shows],\n",
    "                 node_size = [len(show[1]['name'].value_counts().index)*10 for show in shows],\n",
    "                 node_color = [show[1]['rank'].mean() for show in shows])\n",
    "plt.show()"
   ]
  },
  {
   "cell_type": "code",
   "execution_count": null,
   "metadata": {
    "collapsed": false
   },
   "outputs": [],
   "source": [
    "output[1]"
   ]
  },
  {
   "cell_type": "code",
   "execution_count": null,
   "metadata": {
    "collapsed": false
   },
   "outputs": [],
   "source": [
    "len(G.nodes())"
   ]
  },
  {
   "cell_type": "code",
   "execution_count": 103,
   "metadata": {
    "collapsed": false
   },
   "outputs": [
    {
     "data": {
      "text/plain": [
       "['\"The Pacific\"', '\"Justified\"']"
      ]
     },
     "execution_count": 103,
     "metadata": {},
     "output_type": "execute_result"
    }
   ],
   "source": [
    "nx.neighbors(G, '\"Band of Brothers\"')"
   ]
  },
  {
   "cell_type": "code",
   "execution_count": null,
   "metadata": {
    "collapsed": false
   },
   "outputs": [],
   "source": [
    "degrees = pd.DataFrame.from_dict(G.degree(), orient='index').reset_index()\n",
    "degrees.columns = ['Writer', 'degree']"
   ]
  },
  {
   "cell_type": "code",
   "execution_count": null,
   "metadata": {
    "collapsed": true
   },
   "outputs": [],
   "source": [
    "dd = defaultdict(lambda : defaultdict(int))\n",
    "dd[show_1][show_2] += 1"
   ]
  },
  {
   "cell_type": "code",
   "execution_count": null,
   "metadata": {
    "collapsed": false
   },
   "outputs": [],
   "source": [
    "from math import exp\n",
    "colors = writers.groupby('title')['rank'].mean().apply(lambda x: exp(x*10)).to_dict()\n",
    "num_writers = "
   ]
  },
  {
   "cell_type": "code",
   "execution_count": null,
   "metadata": {
    "collapsed": false
   },
   "outputs": [],
   "source": [
    "colors"
   ]
  },
  {
   "cell_type": "code",
   "execution_count": 151,
   "metadata": {
    "collapsed": false
   },
   "outputs": [
    {
     "data": {
      "text/plain": [
       "[7.003883114854477,\n",
       " 7.003182741169116,\n",
       " 7.072844605296507,\n",
       " 7.070614825655582,\n",
       " 7.2769241180921425,\n",
       " 7.470655801956319,\n",
       " 7.270021627017134,\n",
       " 7.034385122924979,\n",
       " 7.043849643612731,\n",
       " 7.153097593601197,\n",
       " 7.015637723829485,\n",
       " 7.076563761612914,\n",
       " 7.57895523906097,\n",
       " 7.014442192814791,\n",
       " 7.131740275663853,\n",
       " 7.005534019261218,\n",
       " 7.005268123477754,\n",
       " 7.060052278326723,\n",
       " 7.183050450037953,\n",
       " 7.036051654544879,\n",
       " 7.037960248002147,\n",
       " 7.003349876495887,\n",
       " 7.036274674755052,\n",
       " 7.633283659500646,\n",
       " 7.020144475848395,\n",
       " 7.02040883364909,\n",
       " 7.018006656566343,\n",
       " 7.13311352270747,\n",
       " 7.233730567064744,\n",
       " 7.344356264880803]"
      ]
     },
     "execution_count": 151,
     "metadata": {},
     "output_type": "execute_result"
    }
   ],
   "source": [
    "shows = writers[writers.title.isin(top_100)].groupby('title')\n",
    "[show[1]['rank'].mean() for show in shows]"
   ]
  },
  {
   "cell_type": "code",
   "execution_count": null,
   "metadata": {
    "collapsed": true
   },
   "outputs": [],
   "source": []
  }
 ],
 "metadata": {
  "kernelspec": {
   "display_name": "Python 3",
   "language": "python",
   "name": "python3"
  },
  "language_info": {
   "codemirror_mode": {
    "name": "ipython",
    "version": 3
   },
   "file_extension": ".py",
   "mimetype": "text/x-python",
   "name": "python",
   "nbconvert_exporter": "python",
   "pygments_lexer": "ipython3",
   "version": "3.5.1"
  }
 },
 "nbformat": 4,
 "nbformat_minor": 0
}
