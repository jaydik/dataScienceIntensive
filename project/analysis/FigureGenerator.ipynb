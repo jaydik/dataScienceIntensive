{
 "cells": [
  {
   "cell_type": "code",
   "execution_count": 199,
   "metadata": {
    "collapsed": true
   },
   "outputs": [],
   "source": [
    "import pandas as pd\n",
    "import networkx as nx"
   ]
  },
  {
   "cell_type": "code",
   "execution_count": 200,
   "metadata": {
    "collapsed": false
   },
   "outputs": [
    {
     "data": {
      "text/html": [
       "<div>\n",
       "<table border=\"1\" class=\"dataframe\">\n",
       "  <thead>\n",
       "    <tr style=\"text-align: right;\">\n",
       "      <th></th>\n",
       "      <th>title</th>\n",
       "      <th>year</th>\n",
       "      <th>episode_name</th>\n",
       "      <th>season</th>\n",
       "      <th>episode_num</th>\n",
       "      <th>country</th>\n",
       "      <th>date</th>\n",
       "      <th>rating</th>\n",
       "      <th>votes</th>\n",
       "      <th>rank</th>\n",
       "      <th>name</th>\n",
       "      <th>type</th>\n",
       "    </tr>\n",
       "  </thead>\n",
       "  <tbody>\n",
       "    <tr>\n",
       "      <th>0</th>\n",
       "      <td>\"$#*! My Dad Says\"</td>\n",
       "      <td>2010</td>\n",
       "      <td>Code Ed</td>\n",
       "      <td>1</td>\n",
       "      <td>4</td>\n",
       "      <td>USA</td>\n",
       "      <td>2010-10-14</td>\n",
       "      <td>6.8</td>\n",
       "      <td>72</td>\n",
       "      <td>6.899713</td>\n",
       "      <td>Alison (V) Brown</td>\n",
       "      <td>writer</td>\n",
       "    </tr>\n",
       "    <tr>\n",
       "      <th>1</th>\n",
       "      <td>\"$#*! My Dad Says\"</td>\n",
       "      <td>2010</td>\n",
       "      <td>Code Ed</td>\n",
       "      <td>1</td>\n",
       "      <td>4</td>\n",
       "      <td>USA</td>\n",
       "      <td>2010-10-14</td>\n",
       "      <td>6.8</td>\n",
       "      <td>72</td>\n",
       "      <td>6.899713</td>\n",
       "      <td>Justin (II) Halpern</td>\n",
       "      <td>creator</td>\n",
       "    </tr>\n",
       "    <tr>\n",
       "      <th>2</th>\n",
       "      <td>\"$#*! My Dad Says\"</td>\n",
       "      <td>2010</td>\n",
       "      <td>Code Ed</td>\n",
       "      <td>1</td>\n",
       "      <td>4</td>\n",
       "      <td>USA</td>\n",
       "      <td>2010-10-14</td>\n",
       "      <td>6.8</td>\n",
       "      <td>72</td>\n",
       "      <td>6.899713</td>\n",
       "      <td>David A. Katz</td>\n",
       "      <td>writer</td>\n",
       "    </tr>\n",
       "    <tr>\n",
       "      <th>3</th>\n",
       "      <td>\"$#*! My Dad Says\"</td>\n",
       "      <td>2010</td>\n",
       "      <td>Code Ed</td>\n",
       "      <td>1</td>\n",
       "      <td>4</td>\n",
       "      <td>USA</td>\n",
       "      <td>2010-10-14</td>\n",
       "      <td>6.8</td>\n",
       "      <td>72</td>\n",
       "      <td>6.899713</td>\n",
       "      <td>David Kohan</td>\n",
       "      <td>creator</td>\n",
       "    </tr>\n",
       "    <tr>\n",
       "      <th>4</th>\n",
       "      <td>\"$#*! My Dad Says\"</td>\n",
       "      <td>2010</td>\n",
       "      <td>Code Ed</td>\n",
       "      <td>1</td>\n",
       "      <td>4</td>\n",
       "      <td>USA</td>\n",
       "      <td>2010-10-14</td>\n",
       "      <td>6.8</td>\n",
       "      <td>72</td>\n",
       "      <td>6.899713</td>\n",
       "      <td>Michael Lisbe</td>\n",
       "      <td>written by</td>\n",
       "    </tr>\n",
       "  </tbody>\n",
       "</table>\n",
       "</div>"
      ],
      "text/plain": [
       "                title  year episode_name  season  episode_num country  \\\n",
       "0  \"$#*! My Dad Says\"  2010     Code Ed        1            4     USA   \n",
       "1  \"$#*! My Dad Says\"  2010     Code Ed        1            4     USA   \n",
       "2  \"$#*! My Dad Says\"  2010     Code Ed        1            4     USA   \n",
       "3  \"$#*! My Dad Says\"  2010     Code Ed        1            4     USA   \n",
       "4  \"$#*! My Dad Says\"  2010     Code Ed        1            4     USA   \n",
       "\n",
       "         date  rating  votes      rank                 name        type  \n",
       "0  2010-10-14     6.8     72  6.899713     Alison (V) Brown      writer  \n",
       "1  2010-10-14     6.8     72  6.899713  Justin (II) Halpern     creator  \n",
       "2  2010-10-14     6.8     72  6.899713        David A. Katz      writer  \n",
       "3  2010-10-14     6.8     72  6.899713          David Kohan     creator  \n",
       "4  2010-10-14     6.8     72  6.899713        Michael Lisbe  written by  "
      ]
     },
     "execution_count": 200,
     "metadata": {},
     "output_type": "execute_result"
    }
   ],
   "source": [
    "mainData = pd.read_csv('../data/mainData.csv')\n",
    "mainData.head()"
   ]
  },
  {
   "cell_type": "code",
   "execution_count": 201,
   "metadata": {
    "collapsed": false
   },
   "outputs": [
    {
     "data": {
      "text/html": [
       "<div>\n",
       "<table border=\"1\" class=\"dataframe\">\n",
       "  <thead>\n",
       "    <tr style=\"text-align: right;\">\n",
       "      <th></th>\n",
       "      <th>title</th>\n",
       "      <th>year</th>\n",
       "      <th>episode_name</th>\n",
       "      <th>season</th>\n",
       "      <th>episode_num</th>\n",
       "      <th>country</th>\n",
       "      <th>date</th>\n",
       "      <th>rating</th>\n",
       "      <th>votes</th>\n",
       "      <th>rank</th>\n",
       "      <th>name</th>\n",
       "      <th>type</th>\n",
       "    </tr>\n",
       "  </thead>\n",
       "  <tbody>\n",
       "    <tr>\n",
       "      <th>0</th>\n",
       "      <td>\"$#*! My Dad Says\"</td>\n",
       "      <td>2010</td>\n",
       "      <td>Code Ed</td>\n",
       "      <td>1</td>\n",
       "      <td>4</td>\n",
       "      <td>USA</td>\n",
       "      <td>2010-10-14</td>\n",
       "      <td>6.8</td>\n",
       "      <td>72</td>\n",
       "      <td>6.899713</td>\n",
       "      <td>Alison (V) Brown</td>\n",
       "      <td>writer</td>\n",
       "    </tr>\n",
       "    <tr>\n",
       "      <th>2</th>\n",
       "      <td>\"$#*! My Dad Says\"</td>\n",
       "      <td>2010</td>\n",
       "      <td>Code Ed</td>\n",
       "      <td>1</td>\n",
       "      <td>4</td>\n",
       "      <td>USA</td>\n",
       "      <td>2010-10-14</td>\n",
       "      <td>6.8</td>\n",
       "      <td>72</td>\n",
       "      <td>6.899713</td>\n",
       "      <td>David A. Katz</td>\n",
       "      <td>writer</td>\n",
       "    </tr>\n",
       "    <tr>\n",
       "      <th>4</th>\n",
       "      <td>\"$#*! My Dad Says\"</td>\n",
       "      <td>2010</td>\n",
       "      <td>Code Ed</td>\n",
       "      <td>1</td>\n",
       "      <td>4</td>\n",
       "      <td>USA</td>\n",
       "      <td>2010-10-14</td>\n",
       "      <td>6.8</td>\n",
       "      <td>72</td>\n",
       "      <td>6.899713</td>\n",
       "      <td>Michael Lisbe</td>\n",
       "      <td>written by</td>\n",
       "    </tr>\n",
       "    <tr>\n",
       "      <th>6</th>\n",
       "      <td>\"$#*! My Dad Says\"</td>\n",
       "      <td>2010</td>\n",
       "      <td>Code Ed</td>\n",
       "      <td>1</td>\n",
       "      <td>4</td>\n",
       "      <td>USA</td>\n",
       "      <td>2010-10-14</td>\n",
       "      <td>6.8</td>\n",
       "      <td>72</td>\n",
       "      <td>6.899713</td>\n",
       "      <td>Jesse Porter</td>\n",
       "      <td>writer</td>\n",
       "    </tr>\n",
       "    <tr>\n",
       "      <th>7</th>\n",
       "      <td>\"$#*! My Dad Says\"</td>\n",
       "      <td>2010</td>\n",
       "      <td>Code Ed</td>\n",
       "      <td>1</td>\n",
       "      <td>4</td>\n",
       "      <td>USA</td>\n",
       "      <td>2010-10-14</td>\n",
       "      <td>6.8</td>\n",
       "      <td>72</td>\n",
       "      <td>6.899713</td>\n",
       "      <td>Nate Reger</td>\n",
       "      <td>written by</td>\n",
       "    </tr>\n",
       "  </tbody>\n",
       "</table>\n",
       "</div>"
      ],
      "text/plain": [
       "                title  year episode_name  season  episode_num country  \\\n",
       "0  \"$#*! My Dad Says\"  2010     Code Ed        1            4     USA   \n",
       "2  \"$#*! My Dad Says\"  2010     Code Ed        1            4     USA   \n",
       "4  \"$#*! My Dad Says\"  2010     Code Ed        1            4     USA   \n",
       "6  \"$#*! My Dad Says\"  2010     Code Ed        1            4     USA   \n",
       "7  \"$#*! My Dad Says\"  2010     Code Ed        1            4     USA   \n",
       "\n",
       "         date  rating  votes      rank              name        type  \n",
       "0  2010-10-14     6.8     72  6.899713  Alison (V) Brown      writer  \n",
       "2  2010-10-14     6.8     72  6.899713     David A. Katz      writer  \n",
       "4  2010-10-14     6.8     72  6.899713     Michael Lisbe  written by  \n",
       "6  2010-10-14     6.8     72  6.899713      Jesse Porter      writer  \n",
       "7  2010-10-14     6.8     72  6.899713        Nate Reger  written by  "
      ]
     },
     "execution_count": 201,
     "metadata": {},
     "output_type": "execute_result"
    }
   ],
   "source": [
    "writers = mainData[mainData['type'].str.contains('writ').fillna(False)]\n",
    "writers.head()"
   ]
  },
  {
   "cell_type": "code",
   "execution_count": 202,
   "metadata": {
    "collapsed": false
   },
   "outputs": [
    {
     "data": {
      "text/plain": [
       "142640"
      ]
     },
     "execution_count": 202,
     "metadata": {},
     "output_type": "execute_result"
    }
   ],
   "source": [
    "len(writers.index)"
   ]
  },
  {
   "cell_type": "code",
   "execution_count": 211,
   "metadata": {
    "collapsed": false
   },
   "outputs": [
    {
     "data": {
      "text/plain": [
       "Index(['J.R. Havlan', 'Jon Stewart', 'Steve Bodow', 'Jason (V) Ross',\n",
       "       'Stephen Colbert', 'Tim Carvell', 'Rich Blomquist', 'David Javerbaum',\n",
       "       'Elliott Kalan', 'Kevin Bleyer',\n",
       "       ...\n",
       "       'Christine (III) Bailey', 'Suzanne Fitzpatrick', 'Joel Blasberg',\n",
       "       'Steve Brasfield', 'Robert Forman', 'Ryan (V) Craig', 'Joy Kecken',\n",
       "       'Bruce (III) Clark', 'Brian L. Perkins', 'Lacey Dyer'],\n",
       "      dtype='object', length=9370)"
      ]
     },
     "execution_count": 211,
     "metadata": {},
     "output_type": "execute_result"
    }
   ],
   "source": [
    "writers['name'].value_counts().index"
   ]
  },
  {
   "cell_type": "code",
   "execution_count": 217,
   "metadata": {
    "collapsed": false
   },
   "outputs": [],
   "source": [
    "grouped = writers[writers.name.isin(writers['name'].value_counts().head(50).index)].groupby(['title', 'year', 'season', 'episode_num'])"
   ]
  },
  {
   "cell_type": "code",
   "execution_count": 218,
   "metadata": {
    "collapsed": false
   },
   "outputs": [],
   "source": [
    "from itertools import combinations\n",
    "\n",
    "output = []\n",
    "\n",
    "for show, data in grouped:\n",
    "    output.extend([x for x in combinations(data['name'], 2) if x[0] != x[1]])\n",
    "    \n"
   ]
  },
  {
   "cell_type": "code",
   "execution_count": 219,
   "metadata": {
    "collapsed": true
   },
   "outputs": [],
   "source": [
    "G = nx.Graph()\n",
    "G.add_edges_from(output, )"
   ]
  },
  {
   "cell_type": "code",
   "execution_count": 220,
   "metadata": {
    "collapsed": false
   },
   "outputs": [],
   "source": [
    "import matplotlib.pyplot as plt\n",
    "\n",
    "nx.draw_networkx(G, pos=nx.spring_layout(G), alpha=0.25)\n",
    "plt.show()"
   ]
  },
  {
   "cell_type": "code",
   "execution_count": 192,
   "metadata": {
    "collapsed": false
   },
   "outputs": [
    {
     "data": {
      "text/plain": [
       "[{'Andrew Schneider',\n",
       "  'Bathsheba Doran',\n",
       "  'Cristine Chambers',\n",
       "  'David (II) Chase',\n",
       "  'David (XXV) Matthews',\n",
       "  'Dennis (II) Lehane',\n",
       "  'Diane Frolov',\n",
       "  'Frank Renzulli',\n",
       "  'Howard Korder',\n",
       "  'Itamar Moses',\n",
       "  'James Manos Jr.',\n",
       "  'Jason Cahill',\n",
       "  'Jennifer Ames',\n",
       "  'Joe Bosso',\n",
       "  'Lawrence Konner',\n",
       "  'Margaret Nagle',\n",
       "  'Matthew Weiner',\n",
       "  'Meg (II) Jackson',\n",
       "  'Mitchell Burgess',\n",
       "  'Paul Simms',\n",
       "  'Riccardo DiLoreto',\n",
       "  'Robin (III) Green',\n",
       "  'Steve (II) Turner',\n",
       "  'Steve Kornacki',\n",
       "  'Terence Winter',\n",
       "  'Todd A. Kessler'},\n",
       " {'David (II) Simon', 'Ed Burns'}]"
      ]
     },
     "execution_count": 192,
     "metadata": {},
     "output_type": "execute_result"
    }
   ],
   "source": []
  },
  {
   "cell_type": "code",
   "execution_count": 79,
   "metadata": {
    "collapsed": false
   },
   "outputs": [
    {
     "data": {
      "text/plain": [
       "0"
      ]
     },
     "execution_count": 79,
     "metadata": {},
     "output_type": "execute_result"
    }
   ],
   "source": [
    "len(G.nodes())"
   ]
  },
  {
   "cell_type": "code",
   "execution_count": 189,
   "metadata": {
    "collapsed": false
   },
   "outputs": [
    {
     "data": {
      "text/plain": [
       "['Ed Burns']"
      ]
     },
     "execution_count": 189,
     "metadata": {},
     "output_type": "execute_result"
    }
   ],
   "source": [
    "nx.neighbors(G, 'David (II) Simon')"
   ]
  },
  {
   "cell_type": "code",
   "execution_count": 54,
   "metadata": {
    "collapsed": false
   },
   "outputs": [],
   "source": [
    "degrees = pd.DataFrame.from_dict(G.degree(), orient='index').reset_index()\n",
    "degrees.columns = ['Writer', 'degree']"
   ]
  },
  {
   "cell_type": "code",
   "execution_count": null,
   "metadata": {
    "collapsed": true
   },
   "outputs": [],
   "source": []
  }
 ],
 "metadata": {
  "kernelspec": {
   "display_name": "Python 3",
   "language": "python",
   "name": "python3"
  },
  "language_info": {
   "codemirror_mode": {
    "name": "ipython",
    "version": 3
   },
   "file_extension": ".py",
   "mimetype": "text/x-python",
   "name": "python",
   "nbconvert_exporter": "python",
   "pygments_lexer": "ipython3",
   "version": "3.5.1"
  }
 },
 "nbformat": 4,
 "nbformat_minor": 0
}
