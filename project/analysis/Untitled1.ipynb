{
 "cells": [
  {
   "cell_type": "code",
   "execution_count": 56,
   "metadata": {
    "collapsed": true
   },
   "outputs": [],
   "source": [
    "import pandas as pd\n",
    "import numpy as np\n",
    "import matplotlib.pyplot as plt"
   ]
  },
  {
   "cell_type": "code",
   "execution_count": 73,
   "metadata": {
    "collapsed": false
   },
   "outputs": [
    {
     "data": {
      "text/html": [
       "<div>\n",
       "<table border=\"1\" class=\"dataframe\">\n",
       "  <thead>\n",
       "    <tr style=\"text-align: right;\">\n",
       "      <th></th>\n",
       "      <th>title</th>\n",
       "      <th>year</th>\n",
       "      <th>episode_name</th>\n",
       "      <th>season</th>\n",
       "      <th>episode_num</th>\n",
       "      <th>country</th>\n",
       "      <th>date</th>\n",
       "    </tr>\n",
       "  </thead>\n",
       "  <tbody>\n",
       "    <tr>\n",
       "      <th>3</th>\n",
       "      <td>\"#1 Single\"</td>\n",
       "      <td>2006</td>\n",
       "      <td>Is the Grass Greener?</td>\n",
       "      <td>1</td>\n",
       "      <td>1</td>\n",
       "      <td>USA</td>\n",
       "      <td>2006-01-22</td>\n",
       "    </tr>\n",
       "    <tr>\n",
       "      <th>7</th>\n",
       "      <td>\"#1 Single\"</td>\n",
       "      <td>2006</td>\n",
       "      <td>Window Shopping</td>\n",
       "      <td>1</td>\n",
       "      <td>2</td>\n",
       "      <td>USA</td>\n",
       "      <td>2006-01-29</td>\n",
       "    </tr>\n",
       "    <tr>\n",
       "      <th>5</th>\n",
       "      <td>\"#1 Single\"</td>\n",
       "      <td>2006</td>\n",
       "      <td>The Rules of Dating</td>\n",
       "      <td>1</td>\n",
       "      <td>3</td>\n",
       "      <td>USA</td>\n",
       "      <td>2006-02-05</td>\n",
       "    </tr>\n",
       "    <tr>\n",
       "      <th>1</th>\n",
       "      <td>\"#1 Single\"</td>\n",
       "      <td>2006</td>\n",
       "      <td>Cats and Dogs</td>\n",
       "      <td>1</td>\n",
       "      <td>4</td>\n",
       "      <td>USA</td>\n",
       "      <td>2006-02-12</td>\n",
       "    </tr>\n",
       "    <tr>\n",
       "      <th>2</th>\n",
       "      <td>\"#1 Single\"</td>\n",
       "      <td>2006</td>\n",
       "      <td>Finishing a Chapter</td>\n",
       "      <td>1</td>\n",
       "      <td>5</td>\n",
       "      <td>USA</td>\n",
       "      <td>2006-02-19</td>\n",
       "    </tr>\n",
       "  </tbody>\n",
       "</table>\n",
       "</div>"
      ],
      "text/plain": [
       "         title  year            episode_name  season  episode_num country  \\\n",
       "3  \"#1 Single\"  2006  Is the Grass Greener?        1            1     USA   \n",
       "7  \"#1 Single\"  2006        Window Shopping        1            2     USA   \n",
       "5  \"#1 Single\"  2006    The Rules of Dating        1            3     USA   \n",
       "1  \"#1 Single\"  2006          Cats and Dogs        1            4     USA   \n",
       "2  \"#1 Single\"  2006    Finishing a Chapter        1            5     USA   \n",
       "\n",
       "         date  \n",
       "3  2006-01-22  \n",
       "7  2006-01-29  \n",
       "5  2006-02-05  \n",
       "1  2006-02-12  \n",
       "2  2006-02-19  "
      ]
     },
     "execution_count": 73,
     "metadata": {},
     "output_type": "execute_result"
    }
   ],
   "source": [
    "releases = pd.read_csv('../data/release_dates.csv')\n",
    "releases = releases[(releases.season.notnull()) & (releases.episode_num.notnull())]\n",
    "releases.sort_values(['title', 'season', 'episode_num']).head()"
   ]
  },
  {
   "cell_type": "code",
   "execution_count": 74,
   "metadata": {
    "collapsed": false
   },
   "outputs": [
    {
     "data": {
      "text/plain": [
       "290912"
      ]
     },
     "execution_count": 74,
     "metadata": {},
     "output_type": "execute_result"
    }
   ],
   "source": [
    "english_speaking_titles = releases[(releases.country == 'USA') & (releases.year > 1990)]\n",
    "english_speaking_titles.head()\n",
    "len(english_speaking_titles)"
   ]
  },
  {
   "cell_type": "code",
   "execution_count": 95,
   "metadata": {
    "collapsed": false
   },
   "outputs": [
    {
     "data": {
      "text/html": [
       "<div>\n",
       "<table border=\"1\" class=\"dataframe\">\n",
       "  <thead>\n",
       "    <tr style=\"text-align: right;\">\n",
       "      <th></th>\n",
       "      <th>title</th>\n",
       "      <th>year</th>\n",
       "      <th>episode_name</th>\n",
       "      <th>season</th>\n",
       "      <th>episode_num</th>\n",
       "      <th>rating</th>\n",
       "      <th>votes</th>\n",
       "      <th>rank</th>\n",
       "    </tr>\n",
       "  </thead>\n",
       "  <tbody>\n",
       "    <tr>\n",
       "      <th>0</th>\n",
       "      <td>\"#1 Single\"</td>\n",
       "      <td>2006</td>\n",
       "      <td>NaN</td>\n",
       "      <td>NaN</td>\n",
       "      <td>NaN</td>\n",
       "      <td>6.2</td>\n",
       "      <td>62</td>\n",
       "      <td>6.898268</td>\n",
       "    </tr>\n",
       "    <tr>\n",
       "      <th>1</th>\n",
       "      <td>\"#7DaysLater\"</td>\n",
       "      <td>2013</td>\n",
       "      <td>NaN</td>\n",
       "      <td>NaN</td>\n",
       "      <td>NaN</td>\n",
       "      <td>7.1</td>\n",
       "      <td>14</td>\n",
       "      <td>6.900112</td>\n",
       "    </tr>\n",
       "    <tr>\n",
       "      <th>2</th>\n",
       "      <td>\"#Bikerlive\"</td>\n",
       "      <td>2014</td>\n",
       "      <td>NaN</td>\n",
       "      <td>NaN</td>\n",
       "      <td>NaN</td>\n",
       "      <td>7.4</td>\n",
       "      <td>10</td>\n",
       "      <td>6.900200</td>\n",
       "    </tr>\n",
       "    <tr>\n",
       "      <th>3</th>\n",
       "      <td>\"#BlackLove\"</td>\n",
       "      <td>2015</td>\n",
       "      <td>NaN</td>\n",
       "      <td>NaN</td>\n",
       "      <td>NaN</td>\n",
       "      <td>6.8</td>\n",
       "      <td>30</td>\n",
       "      <td>6.899880</td>\n",
       "    </tr>\n",
       "    <tr>\n",
       "      <th>4</th>\n",
       "      <td>\"#ByMySide\"</td>\n",
       "      <td>2012</td>\n",
       "      <td>NaN</td>\n",
       "      <td>NaN</td>\n",
       "      <td>NaN</td>\n",
       "      <td>5.7</td>\n",
       "      <td>14</td>\n",
       "      <td>6.899328</td>\n",
       "    </tr>\n",
       "  </tbody>\n",
       "</table>\n",
       "</div>"
      ],
      "text/plain": [
       "           title  year episode_name  season  episode_num  rating  votes  \\\n",
       "0    \"#1 Single\"  2006          NaN     NaN          NaN     6.2     62   \n",
       "1  \"#7DaysLater\"  2013          NaN     NaN          NaN     7.1     14   \n",
       "2   \"#Bikerlive\"  2014          NaN     NaN          NaN     7.4     10   \n",
       "3   \"#BlackLove\"  2015          NaN     NaN          NaN     6.8     30   \n",
       "4    \"#ByMySide\"  2012          NaN     NaN          NaN     5.7     14   \n",
       "\n",
       "       rank  \n",
       "0  6.898268  \n",
       "1  6.900112  \n",
       "2  6.900200  \n",
       "3  6.899880  \n",
       "4  6.899328  "
      ]
     },
     "execution_count": 95,
     "metadata": {},
     "output_type": "execute_result"
    }
   ],
   "source": [
    "ratings = pd.read_csv('../data/ratings.csv')\n",
    "ratings['rank'] = ( (ratings['votes'] / (ratings['votes'] + 25000)) * ratings['rating'] + \n",
    "                    (25000 / ((ratings['votes'] + 25000)))*6.9 \n",
    "                  )\n",
    "ratings.head()"
   ]
  },
  {
   "cell_type": "code",
   "execution_count": 96,
   "metadata": {
    "collapsed": true
   },
   "outputs": [],
   "source": [
    "data = english_speaking_titles.merge(ratings, how='inner')"
   ]
  },
  {
   "cell_type": "code",
   "execution_count": 97,
   "metadata": {
    "collapsed": false
   },
   "outputs": [
    {
     "data": {
      "text/html": [
       "<div>\n",
       "<table border=\"1\" class=\"dataframe\">\n",
       "  <thead>\n",
       "    <tr style=\"text-align: right;\">\n",
       "      <th></th>\n",
       "      <th>title</th>\n",
       "      <th>year</th>\n",
       "      <th>episode_name</th>\n",
       "      <th>season</th>\n",
       "      <th>episode_num</th>\n",
       "      <th>country</th>\n",
       "      <th>date</th>\n",
       "      <th>rating</th>\n",
       "      <th>votes</th>\n",
       "      <th>rank</th>\n",
       "    </tr>\n",
       "  </thead>\n",
       "  <tbody>\n",
       "    <tr>\n",
       "      <th>10923</th>\n",
       "      <td>\"Breaking Bad\"</td>\n",
       "      <td>2008</td>\n",
       "      <td>Ozymandias</td>\n",
       "      <td>5</td>\n",
       "      <td>14</td>\n",
       "      <td>USA</td>\n",
       "      <td>2013-09-15</td>\n",
       "      <td>10.0</td>\n",
       "      <td>70412</td>\n",
       "      <td>9.187733</td>\n",
       "    </tr>\n",
       "    <tr>\n",
       "      <th>10901</th>\n",
       "      <td>\"Breaking Bad\"</td>\n",
       "      <td>2008</td>\n",
       "      <td>Felina</td>\n",
       "      <td>5</td>\n",
       "      <td>16</td>\n",
       "      <td>USA</td>\n",
       "      <td>2013-09-29</td>\n",
       "      <td>9.9</td>\n",
       "      <td>49967</td>\n",
       "      <td>8.899560</td>\n",
       "    </tr>\n",
       "    <tr>\n",
       "      <th>28392</th>\n",
       "      <td>\"Game of Thrones\"</td>\n",
       "      <td>2011</td>\n",
       "      <td>Hardhome</td>\n",
       "      <td>5</td>\n",
       "      <td>8</td>\n",
       "      <td>USA</td>\n",
       "      <td>2015-05-31</td>\n",
       "      <td>9.9</td>\n",
       "      <td>39244</td>\n",
       "      <td>8.732576</td>\n",
       "    </tr>\n",
       "    <tr>\n",
       "      <th>28419</th>\n",
       "      <td>\"Game of Thrones\"</td>\n",
       "      <td>2011</td>\n",
       "      <td>The Rains of Castamere</td>\n",
       "      <td>3</td>\n",
       "      <td>9</td>\n",
       "      <td>USA</td>\n",
       "      <td>2013-06-02</td>\n",
       "      <td>9.9</td>\n",
       "      <td>36981</td>\n",
       "      <td>8.689952</td>\n",
       "    </tr>\n",
       "    <tr>\n",
       "      <th>28412</th>\n",
       "      <td>\"Game of Thrones\"</td>\n",
       "      <td>2011</td>\n",
       "      <td>The Lion and the Rose</td>\n",
       "      <td>4</td>\n",
       "      <td>2</td>\n",
       "      <td>USA</td>\n",
       "      <td>2014-04-13</td>\n",
       "      <td>9.7</td>\n",
       "      <td>23425</td>\n",
       "      <td>8.254466</td>\n",
       "    </tr>\n",
       "  </tbody>\n",
       "</table>\n",
       "</div>"
      ],
      "text/plain": [
       "                   title  year             episode_name  season  episode_num  \\\n",
       "10923     \"Breaking Bad\"  2008              Ozymandias        5           14   \n",
       "10901     \"Breaking Bad\"  2008                  Felina        5           16   \n",
       "28392  \"Game of Thrones\"  2011                Hardhome        5            8   \n",
       "28419  \"Game of Thrones\"  2011  The Rains of Castamere        3            9   \n",
       "28412  \"Game of Thrones\"  2011   The Lion and the Rose        4            2   \n",
       "\n",
       "      country        date  rating  votes      rank  \n",
       "10923     USA  2013-09-15    10.0  70412  9.187733  \n",
       "10901     USA  2013-09-29     9.9  49967  8.899560  \n",
       "28392     USA  2015-05-31     9.9  39244  8.732576  \n",
       "28419     USA  2013-06-02     9.9  36981  8.689952  \n",
       "28412     USA  2014-04-13     9.7  23425  8.254466  "
      ]
     },
     "execution_count": 97,
     "metadata": {},
     "output_type": "execute_result"
    }
   ],
   "source": [
    "data.sort_values('rank', ascending=False).head()"
   ]
  },
  {
   "cell_type": "code",
   "execution_count": 98,
   "metadata": {
    "collapsed": false
   },
   "outputs": [
    {
     "data": {
      "text/html": [
       "<div>\n",
       "<table border=\"1\" class=\"dataframe\">\n",
       "  <thead>\n",
       "    <tr style=\"text-align: right;\">\n",
       "      <th></th>\n",
       "      <th>title</th>\n",
       "      <th>year</th>\n",
       "      <th>episode_name</th>\n",
       "      <th>season</th>\n",
       "      <th>episode_num</th>\n",
       "      <th>name</th>\n",
       "      <th>type</th>\n",
       "    </tr>\n",
       "  </thead>\n",
       "  <tbody>\n",
       "    <tr>\n",
       "      <th>0</th>\n",
       "      <td>\"The Lyricist Lounge Show\"</td>\n",
       "      <td>2000</td>\n",
       "      <td>NaN</td>\n",
       "      <td>NaN</td>\n",
       "      <td>NaN</td>\n",
       "      <td>Michael 'babeepower' Viera</td>\n",
       "      <td>NaN</td>\n",
       "    </tr>\n",
       "    <tr>\n",
       "      <th>1</th>\n",
       "      <td>\"De Middeleeuwen\"</td>\n",
       "      <td>2001</td>\n",
       "      <td>NaN</td>\n",
       "      <td>NaN</td>\n",
       "      <td>NaN</td>\n",
       "      <td>Jan 't Lam</td>\n",
       "      <td>scenario</td>\n",
       "    </tr>\n",
       "    <tr>\n",
       "      <th>2</th>\n",
       "      <td>\"Shortland Street\"</td>\n",
       "      <td>1992</td>\n",
       "      <td>(#8.203)</td>\n",
       "      <td>NaN</td>\n",
       "      <td>NaN</td>\n",
       "      <td>Michele A'Court</td>\n",
       "      <td>writer</td>\n",
       "    </tr>\n",
       "    <tr>\n",
       "      <th>3</th>\n",
       "      <td>\"The Kids of Degrassi Street\"</td>\n",
       "      <td>1979</td>\n",
       "      <td>Chuck Makes a Choice</td>\n",
       "      <td>1</td>\n",
       "      <td>9</td>\n",
       "      <td>Susan A'Court</td>\n",
       "      <td>writer</td>\n",
       "    </tr>\n",
       "    <tr>\n",
       "      <th>4</th>\n",
       "      <td>\"The Kids of Degrassi Street\"</td>\n",
       "      <td>1979</td>\n",
       "      <td>Liz Sits the Schlegels</td>\n",
       "      <td>1</td>\n",
       "      <td>13</td>\n",
       "      <td>Susan A'Court</td>\n",
       "      <td>writer</td>\n",
       "    </tr>\n",
       "  </tbody>\n",
       "</table>\n",
       "</div>"
      ],
      "text/plain": [
       "                           title  year             episode_name  season  \\\n",
       "0     \"The Lyricist Lounge Show\"  2000                      NaN     NaN   \n",
       "1              \"De Middeleeuwen\"  2001                      NaN     NaN   \n",
       "2             \"Shortland Street\"  1992                 (#8.203)     NaN   \n",
       "3  \"The Kids of Degrassi Street\"  1979    Chuck Makes a Choice        1   \n",
       "4  \"The Kids of Degrassi Street\"  1979  Liz Sits the Schlegels        1   \n",
       "\n",
       "   episode_num                        name      type  \n",
       "0          NaN  Michael 'babeepower' Viera       NaN  \n",
       "1          NaN                  Jan 't Lam  scenario  \n",
       "2          NaN             Michele A'Court    writer  \n",
       "3            9               Susan A'Court    writer  \n",
       "4           13               Susan A'Court    writer  "
      ]
     },
     "execution_count": 98,
     "metadata": {},
     "output_type": "execute_result"
    }
   ],
   "source": [
    "writers = pd.read_csv('../data/writers.csv')\n",
    "writers.head()"
   ]
  },
  {
   "cell_type": "code",
   "execution_count": 99,
   "metadata": {
    "collapsed": false
   },
   "outputs": [
    {
     "data": {
      "text/html": [
       "<div>\n",
       "<table border=\"1\" class=\"dataframe\">\n",
       "  <thead>\n",
       "    <tr style=\"text-align: right;\">\n",
       "      <th></th>\n",
       "      <th>title</th>\n",
       "      <th>year</th>\n",
       "      <th>episode_name</th>\n",
       "      <th>season</th>\n",
       "      <th>episode_num</th>\n",
       "      <th>country</th>\n",
       "      <th>date</th>\n",
       "      <th>rating</th>\n",
       "      <th>votes</th>\n",
       "      <th>rank</th>\n",
       "      <th>name</th>\n",
       "      <th>type</th>\n",
       "    </tr>\n",
       "  </thead>\n",
       "  <tbody>\n",
       "    <tr>\n",
       "      <th>32074</th>\n",
       "      <td>\"Breaking Bad\"</td>\n",
       "      <td>2008</td>\n",
       "      <td>Ozymandias</td>\n",
       "      <td>5</td>\n",
       "      <td>14</td>\n",
       "      <td>USA</td>\n",
       "      <td>2013-09-15</td>\n",
       "      <td>10.0</td>\n",
       "      <td>70412</td>\n",
       "      <td>9.187733</td>\n",
       "      <td>Vince Gilligan</td>\n",
       "      <td>created by</td>\n",
       "    </tr>\n",
       "    <tr>\n",
       "      <th>32075</th>\n",
       "      <td>\"Breaking Bad\"</td>\n",
       "      <td>2008</td>\n",
       "      <td>Ozymandias</td>\n",
       "      <td>5</td>\n",
       "      <td>14</td>\n",
       "      <td>USA</td>\n",
       "      <td>2013-09-15</td>\n",
       "      <td>10.0</td>\n",
       "      <td>70412</td>\n",
       "      <td>9.187733</td>\n",
       "      <td>Moira Walley-Beckett</td>\n",
       "      <td>written by</td>\n",
       "    </tr>\n",
       "    <tr>\n",
       "      <th>32027</th>\n",
       "      <td>\"Breaking Bad\"</td>\n",
       "      <td>2008</td>\n",
       "      <td>Felina</td>\n",
       "      <td>5</td>\n",
       "      <td>16</td>\n",
       "      <td>USA</td>\n",
       "      <td>2013-09-29</td>\n",
       "      <td>9.9</td>\n",
       "      <td>49967</td>\n",
       "      <td>8.899560</td>\n",
       "      <td>Vince Gilligan</td>\n",
       "      <td>written by</td>\n",
       "    </tr>\n",
       "    <tr>\n",
       "      <th>32026</th>\n",
       "      <td>\"Breaking Bad\"</td>\n",
       "      <td>2008</td>\n",
       "      <td>Felina</td>\n",
       "      <td>5</td>\n",
       "      <td>16</td>\n",
       "      <td>USA</td>\n",
       "      <td>2013-09-29</td>\n",
       "      <td>9.9</td>\n",
       "      <td>49967</td>\n",
       "      <td>8.899560</td>\n",
       "      <td>Vince Gilligan</td>\n",
       "      <td>created by</td>\n",
       "    </tr>\n",
       "    <tr>\n",
       "      <th>82359</th>\n",
       "      <td>\"Game of Thrones\"</td>\n",
       "      <td>2011</td>\n",
       "      <td>Hardhome</td>\n",
       "      <td>5</td>\n",
       "      <td>8</td>\n",
       "      <td>USA</td>\n",
       "      <td>2015-05-31</td>\n",
       "      <td>9.9</td>\n",
       "      <td>39244</td>\n",
       "      <td>8.732576</td>\n",
       "      <td>George R.R. Martin</td>\n",
       "      <td>\"A Song of Ice and Fire\" by</td>\n",
       "    </tr>\n",
       "  </tbody>\n",
       "</table>\n",
       "</div>"
      ],
      "text/plain": [
       "                   title  year episode_name  season  episode_num country  \\\n",
       "32074     \"Breaking Bad\"  2008  Ozymandias        5           14     USA   \n",
       "32075     \"Breaking Bad\"  2008  Ozymandias        5           14     USA   \n",
       "32027     \"Breaking Bad\"  2008      Felina        5           16     USA   \n",
       "32026     \"Breaking Bad\"  2008      Felina        5           16     USA   \n",
       "82359  \"Game of Thrones\"  2011    Hardhome        5            8     USA   \n",
       "\n",
       "             date  rating  votes      rank                  name  \\\n",
       "32074  2013-09-15    10.0  70412  9.187733        Vince Gilligan   \n",
       "32075  2013-09-15    10.0  70412  9.187733  Moira Walley-Beckett   \n",
       "32027  2013-09-29     9.9  49967  8.899560        Vince Gilligan   \n",
       "32026  2013-09-29     9.9  49967  8.899560        Vince Gilligan   \n",
       "82359  2015-05-31     9.9  39244  8.732576    George R.R. Martin   \n",
       "\n",
       "                              type  \n",
       "32074                   created by  \n",
       "32075                   written by  \n",
       "32027                   written by  \n",
       "32026                   created by  \n",
       "82359  \"A Song of Ice and Fire\" by  "
      ]
     },
     "execution_count": 99,
     "metadata": {},
     "output_type": "execute_result"
    }
   ],
   "source": [
    "data = data.merge(writers)\n",
    "data.sort_values('rank', ascending=False).head()"
   ]
  },
  {
   "cell_type": "code",
   "execution_count": 105,
   "metadata": {
    "collapsed": false
   },
   "outputs": [
    {
     "data": {
      "text/plain": [
       "name\n",
       "David Benioff           7.568974\n",
       "D.B. (II) Weiss         7.568974\n",
       "George R.R. Martin      7.529039\n",
       "Bryan Cogman            7.437436\n",
       "Jeff McKibben           7.425404\n",
       "Mark Gatiss             7.421171\n",
       "Eric 'Giz' Gewirtz      7.353290\n",
       "Peter Gould             7.348482\n",
       "Nic Pizzolatto          7.338838\n",
       "Dave (XXXIII) Hill      7.335868\n",
       "George Mastras          7.334486\n",
       "Gordon (XXI) Smith      7.331911\n",
       "Steve (XII) Thompson    7.326697\n",
       "Randolph Leon           7.306722\n",
       "Luke Kalteux            7.270022\n",
       "Vince Gilligan          7.262228\n",
       "J. (V) Roberts          7.257896\n",
       "Sam Catlin              7.250020\n",
       "Steven Moffat           7.226605\n",
       "Charlie Adlard          7.210473\n",
       "Name: rank, dtype: float64"
      ]
     },
     "execution_count": 105,
     "metadata": {},
     "output_type": "execute_result"
    }
   ],
   "source": [
    "data.groupby('name')['rank'].mean().sort_values(ascending=False).head(20)"
   ]
  },
  {
   "cell_type": "code",
   "execution_count": 107,
   "metadata": {
    "collapsed": false
   },
   "outputs": [
    {
     "data": {
      "text/html": [
       "<div>\n",
       "<table border=\"1\" class=\"dataframe\">\n",
       "  <thead>\n",
       "    <tr style=\"text-align: right;\">\n",
       "      <th></th>\n",
       "      <th>title</th>\n",
       "      <th>year</th>\n",
       "      <th>episode_name</th>\n",
       "      <th>season</th>\n",
       "      <th>episode_num</th>\n",
       "      <th>country</th>\n",
       "      <th>date</th>\n",
       "      <th>rating</th>\n",
       "      <th>votes</th>\n",
       "      <th>rank</th>\n",
       "      <th>name</th>\n",
       "      <th>type</th>\n",
       "    </tr>\n",
       "  </thead>\n",
       "  <tbody>\n",
       "    <tr>\n",
       "      <th>82405</th>\n",
       "      <td>\"Game of Thrones\"</td>\n",
       "      <td>2011</td>\n",
       "      <td>Sons of the Harpy</td>\n",
       "      <td>5</td>\n",
       "      <td>4</td>\n",
       "      <td>USA</td>\n",
       "      <td>2015-05-03</td>\n",
       "      <td>8.7</td>\n",
       "      <td>7988</td>\n",
       "      <td>7.335868</td>\n",
       "      <td>Dave (XXXIII) Hill</td>\n",
       "      <td>written for television by</td>\n",
       "    </tr>\n",
       "  </tbody>\n",
       "</table>\n",
       "</div>"
      ],
      "text/plain": [
       "                   title  year        episode_name  season  episode_num  \\\n",
       "82405  \"Game of Thrones\"  2011  Sons of the Harpy        5            4   \n",
       "\n",
       "      country        date  rating  votes      rank                name  \\\n",
       "82405     USA  2015-05-03     8.7   7988  7.335868  Dave (XXXIII) Hill   \n",
       "\n",
       "                            type  \n",
       "82405  written for television by  "
      ]
     },
     "execution_count": 107,
     "metadata": {},
     "output_type": "execute_result"
    }
   ],
   "source": [
    "data[data.name == 'Dave (XXXIII) Hill']"
   ]
  },
  {
   "cell_type": "code",
   "execution_count": 118,
   "metadata": {
    "collapsed": false
   },
   "outputs": [
    {
     "data": {
      "text/plain": [
       "6.989241927266077"
      ]
     },
     "execution_count": 118,
     "metadata": {},
     "output_type": "execute_result"
    }
   ],
   "source": [
    "data.loc[data.title == '\"The Sopranos\"', 'rank'].mean()"
   ]
  },
  {
   "cell_type": "code",
   "execution_count": null,
   "metadata": {
    "collapsed": true
   },
   "outputs": [],
   "source": []
  }
 ],
 "metadata": {
  "kernelspec": {
   "display_name": "Python 3",
   "language": "python",
   "name": "python3"
  },
  "language_info": {
   "codemirror_mode": {
    "name": "ipython",
    "version": 3
   },
   "file_extension": ".py",
   "mimetype": "text/x-python",
   "name": "python",
   "nbconvert_exporter": "python",
   "pygments_lexer": "ipython3",
   "version": "3.5.1"
  }
 },
 "nbformat": 4,
 "nbformat_minor": 0
}
