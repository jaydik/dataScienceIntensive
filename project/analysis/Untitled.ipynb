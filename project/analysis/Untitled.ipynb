{
 "cells": [
  {
   "cell_type": "code",
   "execution_count": 1,
   "metadata": {
    "collapsed": true
   },
   "outputs": [],
   "source": [
    "import pandas as pd"
   ]
  },
  {
   "cell_type": "code",
   "execution_count": 5,
   "metadata": {
    "collapsed": false
   },
   "outputs": [],
   "source": [
    "df = pd.read_csv('../data/writers.csv')"
   ]
  },
  {
   "cell_type": "code",
   "execution_count": 6,
   "metadata": {
    "collapsed": false
   },
   "outputs": [
    {
     "data": {
      "text/html": [
       "<div>\n",
       "<table border=\"1\" class=\"dataframe\">\n",
       "  <thead>\n",
       "    <tr style=\"text-align: right;\">\n",
       "      <th></th>\n",
       "      <th>title</th>\n",
       "      <th>year</th>\n",
       "      <th>name</th>\n",
       "      <th>type</th>\n",
       "    </tr>\n",
       "  </thead>\n",
       "  <tbody>\n",
       "    <tr>\n",
       "      <th>0</th>\n",
       "      <td>\"The Lyricist Lounge Show\"</td>\n",
       "      <td>2000</td>\n",
       "      <td>Michael 'babeepower' Viera</td>\n",
       "      <td>b'2000'</td>\n",
       "    </tr>\n",
       "    <tr>\n",
       "      <th>1</th>\n",
       "      <td>Bad Country</td>\n",
       "      <td>2014</td>\n",
       "      <td>Don 'Bud'Connor</td>\n",
       "      <td>b'story'</td>\n",
       "    </tr>\n",
       "    <tr>\n",
       "      <th>2</th>\n",
       "      <td>Comrade</td>\n",
       "      <td>2008</td>\n",
       "      <td>Mak 'Kusare</td>\n",
       "      <td>b'writer'</td>\n",
       "    </tr>\n",
       "    <tr>\n",
       "      <th>3</th>\n",
       "      <td>StudZmen</td>\n",
       "      <td>2013</td>\n",
       "      <td>Ulia 'Noble Julz'Hamilton</td>\n",
       "      <td>b'as Noble Julz Anu'</td>\n",
       "    </tr>\n",
       "    <tr>\n",
       "      <th>4</th>\n",
       "      <td>Een vlucht regenwulpen</td>\n",
       "      <td>1981</td>\n",
       "      <td>Maarten 't Hart</td>\n",
       "      <td>b'novel'</td>\n",
       "    </tr>\n",
       "  </tbody>\n",
       "</table>\n",
       "</div>"
      ],
      "text/plain": [
       "                        title  year                        name  \\\n",
       "0  \"The Lyricist Lounge Show\"  2000  Michael 'babeepower' Viera   \n",
       "1                 Bad Country  2014             Don 'Bud'Connor   \n",
       "2                     Comrade  2008                 Mak 'Kusare   \n",
       "3                    StudZmen  2013   Ulia 'Noble Julz'Hamilton   \n",
       "4      Een vlucht regenwulpen  1981             Maarten 't Hart   \n",
       "\n",
       "                   type  \n",
       "0               b'2000'  \n",
       "1              b'story'  \n",
       "2             b'writer'  \n",
       "3  b'as Noble Julz Anu'  \n",
       "4              b'novel'  "
      ]
     },
     "execution_count": 6,
     "metadata": {},
     "output_type": "execute_result"
    }
   ],
   "source": [
    "df.head()"
   ]
  },
  {
   "cell_type": "code",
   "execution_count": 7,
   "metadata": {
    "collapsed": false
   },
   "outputs": [
    {
     "data": {
      "text/html": [
       "<div>\n",
       "<table border=\"1\" class=\"dataframe\">\n",
       "  <thead>\n",
       "    <tr style=\"text-align: right;\">\n",
       "      <th></th>\n",
       "      <th>title</th>\n",
       "      <th>year</th>\n",
       "      <th>name</th>\n",
       "      <th>type</th>\n",
       "    </tr>\n",
       "  </thead>\n",
       "  <tbody>\n",
       "    <tr>\n",
       "      <th>23758</th>\n",
       "      <td>The Revenant</td>\n",
       "      <td>2012</td>\n",
       "      <td>Nick (VI) Banks</td>\n",
       "      <td>b'story and screenplay'</td>\n",
       "    </tr>\n",
       "    <tr>\n",
       "      <th>131812</th>\n",
       "      <td>The Revenant</td>\n",
       "      <td>2012</td>\n",
       "      <td>Zach (II) Fitzpatrick</td>\n",
       "      <td>b'story'</td>\n",
       "    </tr>\n",
       "    <tr>\n",
       "      <th>132759</th>\n",
       "      <td>The Revenant</td>\n",
       "      <td>2012</td>\n",
       "      <td>Carole Flory</td>\n",
       "      <td>b'story'</td>\n",
       "    </tr>\n",
       "    <tr>\n",
       "      <th>154973</th>\n",
       "      <td>The Revenant</td>\n",
       "      <td>2015</td>\n",
       "      <td>Alejandro Gonz?lez I??rritu</td>\n",
       "      <td>b'screenplay) (as Alejandro G. I\\xf1\\xe1rritu'</td>\n",
       "    </tr>\n",
       "    <tr>\n",
       "      <th>203131</th>\n",
       "      <td>The Revenant</td>\n",
       "      <td>2012</td>\n",
       "      <td>Josh (XIII) Jones</td>\n",
       "      <td>b'story and screenplay'</td>\n",
       "    </tr>\n",
       "    <tr>\n",
       "      <th>336764</th>\n",
       "      <td>The Revenant</td>\n",
       "      <td>2009</td>\n",
       "      <td>D. Kerry Prior</td>\n",
       "      <td>b'written by) (as Kerry Prior'</td>\n",
       "    </tr>\n",
       "    <tr>\n",
       "      <th>338168</th>\n",
       "      <td>The Revenant</td>\n",
       "      <td>2015</td>\n",
       "      <td>Michael Punke</td>\n",
       "      <td>b'based in part on the novel by'</td>\n",
       "    </tr>\n",
       "    <tr>\n",
       "      <th>394107</th>\n",
       "      <td>The Revenant</td>\n",
       "      <td>2015</td>\n",
       "      <td>Mark L. Smith</td>\n",
       "      <td>b'screenplay'</td>\n",
       "    </tr>\n",
       "    <tr>\n",
       "      <th>424119</th>\n",
       "      <td>The Revenant</td>\n",
       "      <td>2012</td>\n",
       "      <td>Lisa Trapp</td>\n",
       "      <td>b'story'</td>\n",
       "    </tr>\n",
       "  </tbody>\n",
       "</table>\n",
       "</div>"
      ],
      "text/plain": [
       "               title  year                         name  \\\n",
       "23758   The Revenant  2012              Nick (VI) Banks   \n",
       "131812  The Revenant  2012        Zach (II) Fitzpatrick   \n",
       "132759  The Revenant  2012                 Carole Flory   \n",
       "154973  The Revenant  2015  Alejandro Gonz?lez I??rritu   \n",
       "203131  The Revenant  2012            Josh (XIII) Jones   \n",
       "336764  The Revenant  2009               D. Kerry Prior   \n",
       "338168  The Revenant  2015                Michael Punke   \n",
       "394107  The Revenant  2015                Mark L. Smith   \n",
       "424119  The Revenant  2012                   Lisa Trapp   \n",
       "\n",
       "                                                  type  \n",
       "23758                          b'story and screenplay'  \n",
       "131812                                        b'story'  \n",
       "132759                                        b'story'  \n",
       "154973  b'screenplay) (as Alejandro G. I\\xf1\\xe1rritu'  \n",
       "203131                         b'story and screenplay'  \n",
       "336764                  b'written by) (as Kerry Prior'  \n",
       "338168                b'based in part on the novel by'  \n",
       "394107                                   b'screenplay'  \n",
       "424119                                        b'story'  "
      ]
     },
     "execution_count": 7,
     "metadata": {},
     "output_type": "execute_result"
    }
   ],
   "source": [
    "df[df.title == 'The Revenant']"
   ]
  },
  {
   "cell_type": "code",
   "execution_count": null,
   "metadata": {
    "collapsed": true
   },
   "outputs": [],
   "source": []
  }
 ],
 "metadata": {
  "kernelspec": {
   "display_name": "Python 3",
   "language": "python",
   "name": "python3"
  },
  "language_info": {
   "codemirror_mode": {
    "name": "ipython",
    "version": 3
   },
   "file_extension": ".py",
   "mimetype": "text/x-python",
   "name": "python",
   "nbconvert_exporter": "python",
   "pygments_lexer": "ipython3",
   "version": "3.5.1"
  }
 },
 "nbformat": 4,
 "nbformat_minor": 0
}
