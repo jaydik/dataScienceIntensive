{
 "cells": [
  {
   "cell_type": "markdown",
   "metadata": {},
   "source": [
    "# Television Network Analysis\n",
    "\n",
    "## Jon Dickerson / Luca Belli\n",
    "\n",
    "#### Network Centrality Measures\n"
   ]
  },
  {
   "cell_type": "markdown",
   "metadata": {},
   "source": [
    "In the main document, I already briefly touched on the idea of _degree_, which is how many edges are connected to a given node. Since we've taken care of the plotting, we can expand our graph to include more shows. (This will increase processing time/resource requirements, so be careful if you don't have many resources.)"
   ]
  },
  {
   "cell_type": "code",
   "execution_count": 44,
   "metadata": {
    "collapsed": false
   },
   "outputs": [
    {
     "name": "stdout",
     "output_type": "stream",
     "text": [
      "Populating the interactive namespace from numpy and matplotlib\n"
     ]
    }
   ],
   "source": [
    "import pandas as pd\n",
    "import numpy as np\n",
    "import networkx as nx\n",
    "%pylab inline"
   ]
  },
  {
   "cell_type": "code",
   "execution_count": 5,
   "metadata": {
    "collapsed": false
   },
   "outputs": [],
   "source": [
    "# Load Data\n",
    "main_data = pd.read_csv('../data/mainData.csv')\n",
    "\n",
    "# get top shows\n",
    "show_ratings = main_data.groupby('title')['rank'].mean()\n",
    "top_1000 = list(show_ratings.sort_values(ascending=False).head(1000).index)\n",
    "\n",
    "\n",
    "# group by writer\n",
    "grouped = main_data[main_data.title.isin(top_1000)].groupby(['name'])\n",
    "\n",
    "from itertools import combinations\n",
    "from collections import Counter\n",
    "\n",
    "output = []\n",
    "\n",
    "# For ever writer, take all the combinations of show they've written for\n",
    "# And deduplicate it using set()\n",
    "for name, data in grouped:\n",
    "    output.extend(set([x for x in combinations(data['title'],2) \n",
    "                           if x[0] != x[1]]))     # Can't match yourself\n",
    "\n",
    "# Run a counter to help with weights later\n",
    "output.sort()\n",
    "c = Counter(output)\n",
    "\n",
    "# loop through and get weights\n",
    "graph_builder = []\n",
    "for x in c:\n",
    "    graph_builder.append((x[0], x[1], {'weight': c[x]}))\n",
    "    \n",
    "    \n",
    "# Create graph\n",
    "G = nx.Graph()\n",
    "\n",
    "# Add edges (and thus nodes) from the graph_builder\n",
    "G.add_edges_from(graph_builder)\n",
    "\n",
    "# Add disconnected shows\n",
    "for x in top_1000:\n",
    "    if x not in G.nodes():\n",
    "        G.add_node(x)"
   ]
  },
  {
   "cell_type": "markdown",
   "metadata": {},
   "source": [
    "We can look at the highest degree shows, in this context, that would be the shows with the most successful writer's rooms, that is, shows whose writers have gone on to make other shows most often."
   ]
  },
  {
   "cell_type": "code",
   "execution_count": 6,
   "metadata": {
    "collapsed": false
   },
   "outputs": [
    {
     "data": {
      "text/html": [
       "<div>\n",
       "<table border=\"1\" class=\"dataframe\">\n",
       "  <thead>\n",
       "    <tr style=\"text-align: right;\">\n",
       "      <th></th>\n",
       "      <th>title</th>\n",
       "      <th>degree</th>\n",
       "    </tr>\n",
       "  </thead>\n",
       "  <tbody>\n",
       "    <tr>\n",
       "      <th>707</th>\n",
       "      <td>Law &amp; Order: Special Victims Unit</td>\n",
       "      <td>152</td>\n",
       "    </tr>\n",
       "    <tr>\n",
       "      <th>70</th>\n",
       "      <td>Crossing Jordan</td>\n",
       "      <td>120</td>\n",
       "    </tr>\n",
       "    <tr>\n",
       "      <th>495</th>\n",
       "      <td>The X Files</td>\n",
       "      <td>118</td>\n",
       "    </tr>\n",
       "    <tr>\n",
       "      <th>708</th>\n",
       "      <td>Smallville</td>\n",
       "      <td>117</td>\n",
       "    </tr>\n",
       "    <tr>\n",
       "      <th>8</th>\n",
       "      <td>Charmed</td>\n",
       "      <td>117</td>\n",
       "    </tr>\n",
       "  </tbody>\n",
       "</table>\n",
       "</div>"
      ],
      "text/plain": [
       "                                 title  degree\n",
       "707  Law & Order: Special Victims Unit     152\n",
       "70                     Crossing Jordan     120\n",
       "495                        The X Files     118\n",
       "708                         Smallville     117\n",
       "8                              Charmed     117"
      ]
     },
     "execution_count": 6,
     "metadata": {},
     "output_type": "execute_result"
    }
   ],
   "source": [
    "degree = pd.DataFrame.from_dict(G.degree(), \n",
    "                                orient='index').reset_index()\n",
    "degree.columns = ['title', 'degree']\n",
    "degree.sort_values(by='degree', ascending=False).head()"
   ]
  },
  {
   "cell_type": "markdown",
   "metadata": {},
   "source": [
    "\"Law & Order\" should be no surprise, incredibly long running, many writers have come and gone. The others on this list also have longevity on their side.\n",
    "\n",
    "What about the opposite? What kind of shows have no connections?"
   ]
  },
  {
   "cell_type": "code",
   "execution_count": 25,
   "metadata": {
    "collapsed": false
   },
   "outputs": [
    {
     "data": {
      "text/html": [
       "<div>\n",
       "<table border=\"1\" class=\"dataframe\">\n",
       "  <thead>\n",
       "    <tr style=\"text-align: right;\">\n",
       "      <th></th>\n",
       "      <th>title</th>\n",
       "      <th>degree</th>\n",
       "      <th>rank</th>\n",
       "    </tr>\n",
       "  </thead>\n",
       "  <tbody>\n",
       "    <tr>\n",
       "      <th>831</th>\n",
       "      <td>Penny Dreadful</td>\n",
       "      <td>0</td>\n",
       "      <td>6.977975</td>\n",
       "    </tr>\n",
       "    <tr>\n",
       "      <th>307</th>\n",
       "      <td>Downton Abbey</td>\n",
       "      <td>0</td>\n",
       "      <td>6.956618</td>\n",
       "    </tr>\n",
       "    <tr>\n",
       "      <th>323</th>\n",
       "      <td>Hillbilly Horror Show</td>\n",
       "      <td>0</td>\n",
       "      <td>6.951205</td>\n",
       "    </tr>\n",
       "    <tr>\n",
       "      <th>843</th>\n",
       "      <td>The Fall</td>\n",
       "      <td>0</td>\n",
       "      <td>6.934214</td>\n",
       "    </tr>\n",
       "    <tr>\n",
       "      <th>586</th>\n",
       "      <td>Dragon Ball Z: Light of Hope</td>\n",
       "      <td>0</td>\n",
       "      <td>6.929796</td>\n",
       "    </tr>\n",
       "  </tbody>\n",
       "</table>\n",
       "</div>"
      ],
      "text/plain": [
       "                            title  degree      rank\n",
       "831                Penny Dreadful       0  6.977975\n",
       "307                 Downton Abbey       0  6.956618\n",
       "323         Hillbilly Horror Show       0  6.951205\n",
       "843                      The Fall       0  6.934214\n",
       "586  Dragon Ball Z: Light of Hope       0  6.929796"
      ]
     },
     "execution_count": 25,
     "metadata": {},
     "output_type": "execute_result"
    }
   ],
   "source": [
    "degree_with_rank = degree.merge(pd.DataFrame(show_ratings).reset_index())\n",
    "degree_with_rank[degree_with_rank.degree == 0].sort_values('rank', ascending=False).head()"
   ]
  },
  {
   "cell_type": "code",
   "execution_count": 26,
   "metadata": {
    "collapsed": false
   },
   "outputs": [
    {
     "data": {
      "text/plain": [
       "0.001573948340837461"
      ]
     },
     "execution_count": 26,
     "metadata": {},
     "output_type": "execute_result"
    }
   ],
   "source": [
    "degree_with_rank[degree_with_rank.degree == 0]['rank'].mean() - show_ratings.mean()"
   ]
  },
  {
   "cell_type": "markdown",
   "metadata": {},
   "source": [
    "This is interesting. The rank number is a very compressed metric, but the average show that has no other connections is higher than the average show in general. This potentially means that shows that are from unknown writers tend to be better, since there isn't a long track record of performance for the staff. "
   ]
  },
  {
   "cell_type": "code",
   "execution_count": 45,
   "metadata": {
    "collapsed": false
   },
   "outputs": [
    {
     "data": {
      "text/plain": [
       "<matplotlib.axes._subplots.AxesSubplot at 0x7fe3a9ddc4a8>"
      ]
     },
     "execution_count": 45,
     "metadata": {},
     "output_type": "execute_result"
    },
    {
     "data": {
      "image/png": "[encoded data removed]",
      "text/plain": [
       "<matplotlib.figure.Figure at 0x7fe3aba63b70>"
      ]
     },
     "metadata": {},
     "output_type": "display_data"
    }
   ],
   "source": [
    "degree_with_rank.degree.hist()"
   ]
  },
  {
   "cell_type": "markdown",
   "metadata": {},
   "source": [
    "The distribution of degree is interesting as well, seeming to follow n exponential or maybe poisson distribution, with \"Law & Order\" a potential outlier. The average degree is 24, but the median is only 19, evidenced in the right-skewed graph."
   ]
  },
  {
   "cell_type": "code",
   "execution_count": 47,
   "metadata": {
    "collapsed": false
   },
   "outputs": [
    {
     "data": {
      "text/plain": [
       "0.2756602232986712"
      ]
     },
     "execution_count": 47,
     "metadata": {},
     "output_type": "execute_result"
    }
   ],
   "source": [
    "nx.average_clustering(G)"
   ]
  },
  {
   "cell_type": "markdown",
   "metadata": {},
   "source": [
    "The clustering coefficient is the tendency of the graph to \"close loops\" or \"connect\", in other words, if a node connects to two other nodes, what is the probability the other nodes also connect. It makes sense that it is fairly low, since we limited our shows in time, so that the number of shows that can be worked on by one writer concurrently is relatively small."
   ]
  },
  {
   "cell_type": "markdown",
   "metadata": {},
   "source": [
    "#### Conclusion\n",
    "\n",
    "There are many network centrality measures that could be applicable and interesting here, but I just wanted to touch on two of the most common. The [networkx](http://networkx.readthedocs.org/en/networkx-1.11/index.html) package has plenty more if you'd like to fork this repo and play around on your own."
   ]
  }
 ],
 "metadata": {
  "kernelspec": {
   "display_name": "Python 3",
   "language": "python",
   "name": "python3"
  },
  "language_info": {
   "codemirror_mode": {
    "name": "ipython",
    "version": 3
   },
   "file_extension": ".py",
   "mimetype": "text/x-python",
   "name": "python",
   "nbconvert_exporter": "python",
   "pygments_lexer": "ipython3",
   "version": "3.5.1"
  }
 },
 "nbformat": 4,
 "nbformat_minor": 0
}
