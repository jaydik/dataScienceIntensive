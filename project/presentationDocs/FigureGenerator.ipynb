{
 "cells": [
  {
   "cell_type": "code",
   "execution_count": 1,
   "metadata": {
    "collapsed": true
   },
   "outputs": [],
   "source": [
    "import pandas as pd\n",
    "import networkx as nx"
   ]
  },
  {
   "cell_type": "code",
   "execution_count": 2,
   "metadata": {
    "collapsed": false
   },
   "outputs": [
    {
     "data": {
      "text/html": [
       "<div>\n",
       "<table border=\"1\" class=\"dataframe\">\n",
       "  <thead>\n",
       "    <tr style=\"text-align: right;\">\n",
       "      <th></th>\n",
       "      <th>title</th>\n",
       "      <th>year</th>\n",
       "      <th>episode_name</th>\n",
       "      <th>season</th>\n",
       "      <th>episode_num</th>\n",
       "      <th>country</th>\n",
       "      <th>date</th>\n",
       "      <th>rating</th>\n",
       "      <th>votes</th>\n",
       "      <th>rank</th>\n",
       "      <th>name</th>\n",
       "      <th>type</th>\n",
       "    </tr>\n",
       "  </thead>\n",
       "  <tbody>\n",
       "    <tr>\n",
       "      <th>0</th>\n",
       "      <td>$#*! My Dad Says</td>\n",
       "      <td>2010</td>\n",
       "      <td>Code Ed</td>\n",
       "      <td>1</td>\n",
       "      <td>4</td>\n",
       "      <td>USA</td>\n",
       "      <td>2010-10-14</td>\n",
       "      <td>6.8</td>\n",
       "      <td>72</td>\n",
       "      <td>6.899713</td>\n",
       "      <td>Alison (V) Brown</td>\n",
       "      <td>writer</td>\n",
       "    </tr>\n",
       "    <tr>\n",
       "      <th>1</th>\n",
       "      <td>$#*! My Dad Says</td>\n",
       "      <td>2010</td>\n",
       "      <td>Code Ed</td>\n",
       "      <td>1</td>\n",
       "      <td>4</td>\n",
       "      <td>USA</td>\n",
       "      <td>2010-10-14</td>\n",
       "      <td>6.8</td>\n",
       "      <td>72</td>\n",
       "      <td>6.899713</td>\n",
       "      <td>Justin (II) Halpern</td>\n",
       "      <td>creator</td>\n",
       "    </tr>\n",
       "    <tr>\n",
       "      <th>2</th>\n",
       "      <td>$#*! My Dad Says</td>\n",
       "      <td>2010</td>\n",
       "      <td>Code Ed</td>\n",
       "      <td>1</td>\n",
       "      <td>4</td>\n",
       "      <td>USA</td>\n",
       "      <td>2010-10-14</td>\n",
       "      <td>6.8</td>\n",
       "      <td>72</td>\n",
       "      <td>6.899713</td>\n",
       "      <td>David A. Katz</td>\n",
       "      <td>writer</td>\n",
       "    </tr>\n",
       "    <tr>\n",
       "      <th>3</th>\n",
       "      <td>$#*! My Dad Says</td>\n",
       "      <td>2010</td>\n",
       "      <td>Code Ed</td>\n",
       "      <td>1</td>\n",
       "      <td>4</td>\n",
       "      <td>USA</td>\n",
       "      <td>2010-10-14</td>\n",
       "      <td>6.8</td>\n",
       "      <td>72</td>\n",
       "      <td>6.899713</td>\n",
       "      <td>David Kohan</td>\n",
       "      <td>creator</td>\n",
       "    </tr>\n",
       "    <tr>\n",
       "      <th>4</th>\n",
       "      <td>$#*! My Dad Says</td>\n",
       "      <td>2010</td>\n",
       "      <td>Code Ed</td>\n",
       "      <td>1</td>\n",
       "      <td>4</td>\n",
       "      <td>USA</td>\n",
       "      <td>2010-10-14</td>\n",
       "      <td>6.8</td>\n",
       "      <td>72</td>\n",
       "      <td>6.899713</td>\n",
       "      <td>Michael Lisbe</td>\n",
       "      <td>written by</td>\n",
       "    </tr>\n",
       "  </tbody>\n",
       "</table>\n",
       "</div>"
      ],
      "text/plain": [
       "              title  year episode_name  season  episode_num country  \\\n",
       "0  $#*! My Dad Says  2010     Code Ed        1            4     USA   \n",
       "1  $#*! My Dad Says  2010     Code Ed        1            4     USA   \n",
       "2  $#*! My Dad Says  2010     Code Ed        1            4     USA   \n",
       "3  $#*! My Dad Says  2010     Code Ed        1            4     USA   \n",
       "4  $#*! My Dad Says  2010     Code Ed        1            4     USA   \n",
       "\n",
       "         date  rating  votes      rank                 name        type  \n",
       "0  2010-10-14     6.8     72  6.899713     Alison (V) Brown      writer  \n",
       "1  2010-10-14     6.8     72  6.899713  Justin (II) Halpern     creator  \n",
       "2  2010-10-14     6.8     72  6.899713        David A. Katz      writer  \n",
       "3  2010-10-14     6.8     72  6.899713          David Kohan     creator  \n",
       "4  2010-10-14     6.8     72  6.899713        Michael Lisbe  written by  "
      ]
     },
     "execution_count": 2,
     "metadata": {},
     "output_type": "execute_result"
    }
   ],
   "source": [
    "mainData = pd.read_csv('../data/mainData.csv')\n",
    "mainData.head()"
   ]
  },
  {
   "cell_type": "code",
   "execution_count": 3,
   "metadata": {
    "collapsed": false
   },
   "outputs": [
    {
     "data": {
      "text/html": [
       "<div>\n",
       "<table border=\"1\" class=\"dataframe\">\n",
       "  <thead>\n",
       "    <tr style=\"text-align: right;\">\n",
       "      <th></th>\n",
       "      <th>title</th>\n",
       "      <th>year</th>\n",
       "      <th>episode_name</th>\n",
       "      <th>season</th>\n",
       "      <th>episode_num</th>\n",
       "      <th>country</th>\n",
       "      <th>date</th>\n",
       "      <th>rating</th>\n",
       "      <th>votes</th>\n",
       "      <th>rank</th>\n",
       "      <th>name</th>\n",
       "      <th>type</th>\n",
       "    </tr>\n",
       "  </thead>\n",
       "  <tbody>\n",
       "    <tr>\n",
       "      <th>0</th>\n",
       "      <td>$#*! My Dad Says</td>\n",
       "      <td>2010</td>\n",
       "      <td>Code Ed</td>\n",
       "      <td>1</td>\n",
       "      <td>4</td>\n",
       "      <td>USA</td>\n",
       "      <td>2010-10-14</td>\n",
       "      <td>6.8</td>\n",
       "      <td>72</td>\n",
       "      <td>6.899713</td>\n",
       "      <td>Alison (V) Brown</td>\n",
       "      <td>writer</td>\n",
       "    </tr>\n",
       "    <tr>\n",
       "      <th>2</th>\n",
       "      <td>$#*! My Dad Says</td>\n",
       "      <td>2010</td>\n",
       "      <td>Code Ed</td>\n",
       "      <td>1</td>\n",
       "      <td>4</td>\n",
       "      <td>USA</td>\n",
       "      <td>2010-10-14</td>\n",
       "      <td>6.8</td>\n",
       "      <td>72</td>\n",
       "      <td>6.899713</td>\n",
       "      <td>David A. Katz</td>\n",
       "      <td>writer</td>\n",
       "    </tr>\n",
       "    <tr>\n",
       "      <th>4</th>\n",
       "      <td>$#*! My Dad Says</td>\n",
       "      <td>2010</td>\n",
       "      <td>Code Ed</td>\n",
       "      <td>1</td>\n",
       "      <td>4</td>\n",
       "      <td>USA</td>\n",
       "      <td>2010-10-14</td>\n",
       "      <td>6.8</td>\n",
       "      <td>72</td>\n",
       "      <td>6.899713</td>\n",
       "      <td>Michael Lisbe</td>\n",
       "      <td>written by</td>\n",
       "    </tr>\n",
       "    <tr>\n",
       "      <th>6</th>\n",
       "      <td>$#*! My Dad Says</td>\n",
       "      <td>2010</td>\n",
       "      <td>Code Ed</td>\n",
       "      <td>1</td>\n",
       "      <td>4</td>\n",
       "      <td>USA</td>\n",
       "      <td>2010-10-14</td>\n",
       "      <td>6.8</td>\n",
       "      <td>72</td>\n",
       "      <td>6.899713</td>\n",
       "      <td>Jesse Porter</td>\n",
       "      <td>writer</td>\n",
       "    </tr>\n",
       "    <tr>\n",
       "      <th>7</th>\n",
       "      <td>$#*! My Dad Says</td>\n",
       "      <td>2010</td>\n",
       "      <td>Code Ed</td>\n",
       "      <td>1</td>\n",
       "      <td>4</td>\n",
       "      <td>USA</td>\n",
       "      <td>2010-10-14</td>\n",
       "      <td>6.8</td>\n",
       "      <td>72</td>\n",
       "      <td>6.899713</td>\n",
       "      <td>Nate Reger</td>\n",
       "      <td>written by</td>\n",
       "    </tr>\n",
       "  </tbody>\n",
       "</table>\n",
       "</div>"
      ],
      "text/plain": [
       "              title  year episode_name  season  episode_num country  \\\n",
       "0  $#*! My Dad Says  2010     Code Ed        1            4     USA   \n",
       "2  $#*! My Dad Says  2010     Code Ed        1            4     USA   \n",
       "4  $#*! My Dad Says  2010     Code Ed        1            4     USA   \n",
       "6  $#*! My Dad Says  2010     Code Ed        1            4     USA   \n",
       "7  $#*! My Dad Says  2010     Code Ed        1            4     USA   \n",
       "\n",
       "         date  rating  votes      rank              name        type  \n",
       "0  2010-10-14     6.8     72  6.899713  Alison (V) Brown      writer  \n",
       "2  2010-10-14     6.8     72  6.899713     David A. Katz      writer  \n",
       "4  2010-10-14     6.8     72  6.899713     Michael Lisbe  written by  \n",
       "6  2010-10-14     6.8     72  6.899713      Jesse Porter      writer  \n",
       "7  2010-10-14     6.8     72  6.899713        Nate Reger  written by  "
      ]
     },
     "execution_count": 3,
     "metadata": {},
     "output_type": "execute_result"
    }
   ],
   "source": [
    "writers = mainData[mainData['type'].str.contains('writ').fillna(False)]\n",
    "writers.head()"
   ]
  },
  {
   "cell_type": "code",
   "execution_count": 4,
   "metadata": {
    "collapsed": false
   },
   "outputs": [
    {
     "data": {
      "text/plain": [
       "142640"
      ]
     },
     "execution_count": 4,
     "metadata": {},
     "output_type": "execute_result"
    }
   ],
   "source": [
    "len(writers.index)"
   ]
  },
  {
   "cell_type": "code",
   "execution_count": 88,
   "metadata": {
    "collapsed": false
   },
   "outputs": [],
   "source": [
    "show_ratings = writers.groupby('title')['rank'].mean()\n",
    "top_100 = list(show_ratings.sort_values(ascending=False).head(100).index)"
   ]
  },
  {
   "cell_type": "code",
   "execution_count": 89,
   "metadata": {
    "collapsed": false
   },
   "outputs": [],
   "source": [
    "grouped = writers[writers.title.isin(top_100)].groupby(['name'])"
   ]
  },
  {
   "cell_type": "code",
   "execution_count": 90,
   "metadata": {
    "collapsed": false
   },
   "outputs": [
    {
     "data": {
      "text/plain": [
       "('Buffy the Vampire Slayer', 'The X Files', {'weight': 2})"
      ]
     },
     "execution_count": 90,
     "metadata": {},
     "output_type": "execute_result"
    }
   ],
   "source": [
    "from itertools import combinations\n",
    "from collections import Counter\n",
    "\n",
    "output = []\n",
    "\n",
    "for name, data in grouped:\n",
    "    output.extend(set([x for x in combinations(data['title'],2) if x[0] != x[1]]))\n",
    "\n",
    "output.sort()\n",
    "c = Counter(output)\n",
    "\n",
    "graph_builder = []\n",
    "for x in c:\n",
    "    graph_builder.append((x[0], x[1], {'weight': c[x]}))\n",
    "graph_builder[0]"
   ]
  },
  {
   "cell_type": "code",
   "execution_count": 91,
   "metadata": {
    "collapsed": false
   },
   "outputs": [],
   "source": [
    "G = nx.Graph()\n",
    "G.add_edges_from(graph_builder)\n",
    "for x in top_100:\n",
    "    if x not in G.nodes():\n",
    "        G.add_node(x)\n"
   ]
  },
  {
   "cell_type": "code",
   "execution_count": 92,
   "metadata": {
    "collapsed": false
   },
   "outputs": [],
   "source": [
    "import matplotlib.pyplot as plt\n",
    "from math import exp\n",
    "\n",
    "shows = writers[writers.title.isin(top_100)].groupby('title')\n",
    "\n",
    "nx.draw_networkx(G, \n",
    "                 pos=nx.spring_layout(G), \n",
    "                 ax=None,\n",
    "                 alpha=1,\n",
    "                 nodelist = [show[0] for show in shows],\n",
    "                 node_labels = list(degree.sort_values('degree', ascending=False).head(20).title),\n",
    "                 node_size = [len(show[1]['name'].value_counts().index)*10 for show in shows],\n",
    "                 node_color = [show[1]['rank'].mean() for show in shows],\n",
    "                 vmin = min([show[1]['rank'].mean() for show in shows]),\n",
    "                 vmax = max([show[1]['rank'].mean() for show in shows])\n",
    "                )\n",
    "plt.show()"
   ]
  },
  {
   "cell_type": "code",
   "execution_count": 140,
   "metadata": {
    "collapsed": false
   },
   "outputs": [],
   "source": [
    "import matplotlib.pyplot as plt\n",
    "from math import exp\n",
    "\n",
    "shows = writers[writers.title.isin(top_100)].groupby('title')\n",
    "deg = nx.degree(G)\n",
    "\n",
    "nx.draw_networkx(G, \n",
    "                 pos=nx.spring_layout(G), \n",
    "                 alpha=0.5,\n",
    "                 nodelist = [show[0] for show in shows],\n",
    "                 node_size = [exp(show[1]['rank'].mean())/10 for show in shows],\n",
    "                 node_color = [G.degree(show[0]) for show in shows],\n",
    "                 labels = dict(node_list),\n",
    "                 with_labels = False,\n",
    "                )\n",
    "plt.show()"
   ]
  },
  {
   "cell_type": "code",
   "execution_count": 94,
   "metadata": {
    "collapsed": false
   },
   "outputs": [
    {
     "data": {
      "text/html": [
       "<div>\n",
       "<table border=\"1\" class=\"dataframe\">\n",
       "  <thead>\n",
       "    <tr style=\"text-align: right;\">\n",
       "      <th></th>\n",
       "      <th>title</th>\n",
       "      <th>degree</th>\n",
       "    </tr>\n",
       "  </thead>\n",
       "  <tbody>\n",
       "    <tr>\n",
       "      <th>46</th>\n",
       "      <td>Angel</td>\n",
       "      <td>23</td>\n",
       "    </tr>\n",
       "    <tr>\n",
       "      <th>38</th>\n",
       "      <td>Buffy the Vampire Slayer</td>\n",
       "      <td>22</td>\n",
       "    </tr>\n",
       "    <tr>\n",
       "      <th>5</th>\n",
       "      <td>Lost</td>\n",
       "      <td>21</td>\n",
       "    </tr>\n",
       "    <tr>\n",
       "      <th>95</th>\n",
       "      <td>Fringe</td>\n",
       "      <td>19</td>\n",
       "    </tr>\n",
       "    <tr>\n",
       "      <th>27</th>\n",
       "      <td>The X Files</td>\n",
       "      <td>19</td>\n",
       "    </tr>\n",
       "    <tr>\n",
       "      <th>62</th>\n",
       "      <td>Firefly</td>\n",
       "      <td>16</td>\n",
       "    </tr>\n",
       "    <tr>\n",
       "      <th>68</th>\n",
       "      <td>Spartacus: Blood and Sand</td>\n",
       "      <td>16</td>\n",
       "    </tr>\n",
       "    <tr>\n",
       "      <th>82</th>\n",
       "      <td>Once Upon a Time</td>\n",
       "      <td>15</td>\n",
       "    </tr>\n",
       "    <tr>\n",
       "      <th>86</th>\n",
       "      <td>The Vampire Diaries</td>\n",
       "      <td>15</td>\n",
       "    </tr>\n",
       "    <tr>\n",
       "      <th>28</th>\n",
       "      <td>Supernatural</td>\n",
       "      <td>15</td>\n",
       "    </tr>\n",
       "    <tr>\n",
       "      <th>21</th>\n",
       "      <td>Battlestar Galactica</td>\n",
       "      <td>14</td>\n",
       "    </tr>\n",
       "    <tr>\n",
       "      <th>61</th>\n",
       "      <td>Agents of S.H.I.E.L.D.</td>\n",
       "      <td>12</td>\n",
       "    </tr>\n",
       "    <tr>\n",
       "      <th>22</th>\n",
       "      <td>Dexter</td>\n",
       "      <td>12</td>\n",
       "    </tr>\n",
       "    <tr>\n",
       "      <th>45</th>\n",
       "      <td>Torchwood</td>\n",
       "      <td>11</td>\n",
       "    </tr>\n",
       "    <tr>\n",
       "      <th>72</th>\n",
       "      <td>24: Live Another Day</td>\n",
       "      <td>10</td>\n",
       "    </tr>\n",
       "    <tr>\n",
       "      <th>49</th>\n",
       "      <td>Homeland</td>\n",
       "      <td>10</td>\n",
       "    </tr>\n",
       "    <tr>\n",
       "      <th>18</th>\n",
       "      <td>Mad Men</td>\n",
       "      <td>10</td>\n",
       "    </tr>\n",
       "    <tr>\n",
       "      <th>84</th>\n",
       "      <td>24</td>\n",
       "      <td>10</td>\n",
       "    </tr>\n",
       "    <tr>\n",
       "      <th>25</th>\n",
       "      <td>Spartacus: Gods of the Arena</td>\n",
       "      <td>10</td>\n",
       "    </tr>\n",
       "    <tr>\n",
       "      <th>73</th>\n",
       "      <td>Heroes\" (II)</td>\n",
       "      <td>10</td>\n",
       "    </tr>\n",
       "  </tbody>\n",
       "</table>\n",
       "</div>"
      ],
      "text/plain": [
       "                           title  degree\n",
       "46                         Angel      23\n",
       "38      Buffy the Vampire Slayer      22\n",
       "5                           Lost      21\n",
       "95                        Fringe      19\n",
       "27                   The X Files      19\n",
       "62                       Firefly      16\n",
       "68     Spartacus: Blood and Sand      16\n",
       "82              Once Upon a Time      15\n",
       "86           The Vampire Diaries      15\n",
       "28                  Supernatural      15\n",
       "21          Battlestar Galactica      14\n",
       "61        Agents of S.H.I.E.L.D.      12\n",
       "22                        Dexter      12\n",
       "45                     Torchwood      11\n",
       "72          24: Live Another Day      10\n",
       "49                      Homeland      10\n",
       "18                       Mad Men      10\n",
       "84                            24      10\n",
       "25  Spartacus: Gods of the Arena      10\n",
       "73                  Heroes\" (II)      10"
      ]
     },
     "execution_count": 94,
     "metadata": {},
     "output_type": "execute_result"
    }
   ],
   "source": [
    "degree = pd.DataFrame.from_dict(nx.degree(G), orient='index').reset_index()\n",
    "degree.columns = ['title', 'degree']\n",
    "degree.sort_values('degree', ascending=False).head(20)\n"
   ]
  },
  {
   "cell_type": "code",
   "execution_count": 142,
   "metadata": {
    "collapsed": false
   },
   "outputs": [],
   "source": [
    "from collections import defaultdict\n",
    "node_list = defaultdict(str)\n",
    "high_degree = list(degree.sort_values('degree', ascending=False).head(20).title)\n",
    "for x in [show[0] for show in shows]:\n",
    "    if x in high_degree:\n",
    "        node_list[x] = x\n",
    "    else:\n",
    "        node_list[x] = ''\n",
    "    \n",
    "pos=nx.spring_layout(G)\n",
    "\n",
    "nx.draw_networkx(G, pos, alpha=0.5,\n",
    "                 node_size = [exp(show[1]['rank'].mean())/10 for show in shows],\n",
    "                 node_color = [G.degree(show[0]) for show in shows], nodelist=node_list.keys(), with_labels=False)\n",
    "nx.draw_networkx_labels(G, pos, labels=dict(node_list))\n",
    "plt.show()\n"
   ]
  },
  {
   "cell_type": "code",
   "execution_count": 103,
   "metadata": {
    "collapsed": false
   },
   "outputs": [
    {
     "data": {
      "text/plain": [
       "['\"The Pacific\"', '\"Justified\"']"
      ]
     },
     "execution_count": 103,
     "metadata": {},
     "output_type": "execute_result"
    }
   ],
   "source": [
    "nx.neighbors(G, '\"Band of Brothers\"')"
   ]
  },
  {
   "cell_type": "code",
   "execution_count": null,
   "metadata": {
    "collapsed": false
   },
   "outputs": [],
   "source": [
    "degrees = pd.DataFrame.from_dict(G.degree(), orient='index').reset_index()\n",
    "degrees.columns = ['Writer', 'degree']"
   ]
  },
  {
   "cell_type": "code",
   "execution_count": null,
   "metadata": {
    "collapsed": true
   },
   "outputs": [],
   "source": [
    "dd = defaultdict(lambda : defaultdict(int))\n",
    "dd[show_1][show_2] += 1"
   ]
  },
  {
   "cell_type": "code",
   "execution_count": null,
   "metadata": {
    "collapsed": false
   },
   "outputs": [],
   "source": [
    "from math import exp\n",
    "colors = writers.groupby('title')['rank'].mean().apply(lambda x: exp(x*10)).to_dict()\n",
    "num_writers = "
   ]
  },
  {
   "cell_type": "code",
   "execution_count": null,
   "metadata": {
    "collapsed": false
   },
   "outputs": [],
   "source": [
    "colors"
   ]
  },
  {
   "cell_type": "code",
   "execution_count": 151,
   "metadata": {
    "collapsed": false
   },
   "outputs": [
    {
     "data": {
      "text/plain": [
       "[7.003883114854477,\n",
       " 7.003182741169116,\n",
       " 7.072844605296507,\n",
       " 7.070614825655582,\n",
       " 7.2769241180921425,\n",
       " 7.470655801956319,\n",
       " 7.270021627017134,\n",
       " 7.034385122924979,\n",
       " 7.043849643612731,\n",
       " 7.153097593601197,\n",
       " 7.015637723829485,\n",
       " 7.076563761612914,\n",
       " 7.57895523906097,\n",
       " 7.014442192814791,\n",
       " 7.131740275663853,\n",
       " 7.005534019261218,\n",
       " 7.005268123477754,\n",
       " 7.060052278326723,\n",
       " 7.183050450037953,\n",
       " 7.036051654544879,\n",
       " 7.037960248002147,\n",
       " 7.003349876495887,\n",
       " 7.036274674755052,\n",
       " 7.633283659500646,\n",
       " 7.020144475848395,\n",
       " 7.02040883364909,\n",
       " 7.018006656566343,\n",
       " 7.13311352270747,\n",
       " 7.233730567064744,\n",
       " 7.344356264880803]"
      ]
     },
     "execution_count": 151,
     "metadata": {},
     "output_type": "execute_result"
    }
   ],
   "source": [
    "shows = writers[writers.title.isin(top_100)].groupby('title')\n",
    "[show[1]['rank'].mean() for show in shows]"
   ]
  },
  {
   "cell_type": "code",
   "execution_count": null,
   "metadata": {
    "collapsed": true
   },
   "outputs": [],
   "source": []
  }
 ],
 "metadata": {
  "kernelspec": {
   "display_name": "Python 3",
   "language": "python",
   "name": "python3"
  },
  "language_info": {
   "codemirror_mode": {
    "name": "ipython",
    "version": 3
   },
   "file_extension": ".py",
   "mimetype": "text/x-python",
   "name": "python",
   "nbconvert_exporter": "python",
   "pygments_lexer": "ipython3",
   "version": "3.5.1"
  }
 },
 "nbformat": 4,
 "nbformat_minor": 0
}
